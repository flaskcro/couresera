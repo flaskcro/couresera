{
 "cells": [
  {
   "cell_type": "markdown",
   "id": "023efd3e-6d16-4920-b841-3b5c8c16678e",
   "metadata": {},
   "source": [
    "## MNIST"
   ]
  },
  {
   "cell_type": "code",
   "execution_count": 197,
   "id": "6bcc4c9f-1ece-4160-9f8a-e591240cf07c",
   "metadata": {},
   "outputs": [],
   "source": [
    "from tensorflow.keras.datasets.mnist import load_data"
   ]
  },
  {
   "cell_type": "code",
   "execution_count": 198,
   "id": "1208c1e6-5158-4e82-8e42-697beb113d63",
   "metadata": {},
   "outputs": [],
   "source": [
    "(X_train, y_train), (X_test, y_test) = load_data()"
   ]
  },
  {
   "cell_type": "code",
   "execution_count": 199,
   "id": "8b739bb2-3249-4b33-a806-51e3d509fb8a",
   "metadata": {},
   "outputs": [
    {
     "data": {
      "text/plain": [
       "((60000, 28, 28), (10000, 28, 28))"
      ]
     },
     "execution_count": 199,
     "metadata": {},
     "output_type": "execute_result"
    }
   ],
   "source": [
    "X_train.shape, X_test.shape"
   ]
  },
  {
   "cell_type": "code",
   "execution_count": 200,
   "id": "b6aecceb-37ce-4f6d-9ef7-62b9d63321bf",
   "metadata": {},
   "outputs": [],
   "source": [
    "import matplotlib.pyplot as plt\n",
    "import numpy as np"
   ]
  },
  {
   "cell_type": "code",
   "execution_count": 201,
   "id": "f982e7de-49a8-43a6-b553-b131d85634ae",
   "metadata": {},
   "outputs": [],
   "source": [
    "sample_size=3"
   ]
  },
  {
   "cell_type": "code",
   "execution_count": 202,
   "id": "480e0f9f-2b5a-4e0f-b363-578c24e8929e",
   "metadata": {},
   "outputs": [],
   "source": [
    "ridx = np.random.randint(len(X_train), size=sample_size)"
   ]
  },
  {
   "cell_type": "code",
   "execution_count": 203,
   "id": "ffe6bd92-b94a-4896-9bb1-c9656a454c77",
   "metadata": {},
   "outputs": [
    {
     "data": {
      "image/png": "[encoded data removed]",
      "text/plain": [
       "<Figure size 432x288 with 1 Axes>"
      ]
     },
     "metadata": {
      "needs_background": "light"
     },
     "output_type": "display_data"
    },
    {
     "data": {
      "image/png": "[encoded data removed]",
      "text/plain": [
       "<Figure size 432x288 with 1 Axes>"
      ]
     },
     "metadata": {
      "needs_background": "light"
     },
     "output_type": "display_data"
    },
    {
     "data": {
      "image/png": "[encoded data removed]",
      "text/plain": [
       "<Figure size 432x288 with 1 Axes>"
      ]
     },
     "metadata": {
      "needs_background": "light"
     },
     "output_type": "display_data"
    }
   ],
   "source": [
    "for idx in ridx:\n",
    "    plt.figure()\n",
    "    plt.imshow(X_train[idx])\n",
    "    plt.title(y_train[idx])"
   ]
  },
  {
   "cell_type": "code",
   "execution_count": 204,
   "id": "efe43f76-7811-497a-91a1-80c08e500056",
   "metadata": {},
   "outputs": [],
   "source": [
    "from sklearn.model_selection import train_test_split"
   ]
  },
  {
   "cell_type": "code",
   "execution_count": 205,
   "id": "f9641d58-8937-4f39-85fb-ae0de04ffa63",
   "metadata": {},
   "outputs": [],
   "source": [
    "X_train, X_val, y_train, y_val = train_test_split(X_train, y_train, test_size=0.3)"
   ]
  },
  {
   "cell_type": "code",
   "execution_count": 206,
   "id": "219e85c2-2b99-4711-b933-4bd67243172d",
   "metadata": {},
   "outputs": [],
   "source": [
    "num_x_train = len(X_train)\n",
    "num_x_val = len(X_val)\n",
    "num_x_test = len(X_test)"
   ]
  },
  {
   "cell_type": "code",
   "execution_count": 207,
   "id": "0734a48e-4e96-4770-868c-21f69a93964c",
   "metadata": {},
   "outputs": [],
   "source": [
    "X_train = (X_train.reshape((num_x_train, 28 * 28))) / 255\n",
    "X_val = (X_val.reshape((num_x_val, 28 * 28))) / 255\n",
    "X_test = (X_test.reshape((num_x_test, 28 * 28))) / 255"
   ]
  },
  {
   "cell_type": "code",
   "execution_count": 208,
   "id": "c7b5db2c-6ac9-41aa-ba72-cd8d3cec4c34",
   "metadata": {},
   "outputs": [
    {
     "data": {
      "text/plain": [
       "(42000, 784)"
      ]
     },
     "execution_count": 208,
     "metadata": {},
     "output_type": "execute_result"
    }
   ],
   "source": [
    "X_train.shape"
   ]
  },
  {
   "cell_type": "code",
   "execution_count": 209,
   "id": "eda2ca59-3d05-4437-a369-7b0a2e1530d6",
   "metadata": {},
   "outputs": [],
   "source": [
    "from tensorflow.keras.utils import to_categorical\n",
    "\n",
    "y_train = to_categorical(y_train)\n",
    "y_val = to_categorical(y_val)\n",
    "y_test = to_categorical(y_test)"
   ]
  },
  {
   "cell_type": "code",
   "execution_count": 210,
   "id": "f9d3cf5a-4e6b-44db-b51a-4d2fc119612e",
   "metadata": {},
   "outputs": [
    {
     "data": {
      "text/plain": [
       "array([0., 0., 0., 0., 0., 0., 1., 0., 0., 0.], dtype=float32)"
      ]
     },
     "execution_count": 210,
     "metadata": {},
     "output_type": "execute_result"
    }
   ],
   "source": [
    "y_train[0]"
   ]
  },
  {
   "cell_type": "code",
   "execution_count": 211,
   "id": "2caf6120-37eb-4927-ab07-42546e02388b",
   "metadata": {},
   "outputs": [],
   "source": [
    "from tensorflow import keras\n",
    "from tensorflow.keras.models import Sequential\n",
    "from tensorflow.keras.layers import Dense, Activation\n",
    "from tensorflow.keras.optimizers import RMSprop, SGD, Adam\n",
    "from tensorflow.keras.losses import mse"
   ]
  },
  {
   "cell_type": "code",
   "execution_count": 212,
   "id": "caed9cca-0591-4c13-9c22-e71b2a08ee1a",
   "metadata": {},
   "outputs": [],
   "source": [
    "model = Sequential()\n",
    "model.add(Dense(64, activation='relu', input_shape=(784,)))\n",
    "model.add(Dense(32, activation='relu'))\n",
    "model.add(Dense(10, activation='softmax'))"
   ]
  },
  {
   "cell_type": "code",
   "execution_count": 213,
   "id": "f044ae21-85f8-4e97-8dc5-04b533d440db",
   "metadata": {},
   "outputs": [],
   "source": [
    "model.compile(\n",
    "    optimizer='adam',\n",
    "    loss='categorical_crossentropy',\n",
    "    metrics=['accuracy']\n",
    ")"
   ]
  },
  {
   "cell_type": "code",
   "execution_count": 214,
   "id": "80deb7e8-e9da-4543-bf4f-004587c7ea6e",
   "metadata": {},
   "outputs": [],
   "source": [
    "history = model.fit(X_train, y_train, epochs=30, batch_size=128, validation_data= (X_val, y_val), verbose=0)"
   ]
  },
  {
   "cell_type": "code",
   "execution_count": 219,
   "id": "a2300a20-90c0-49b4-99ce-74d0dc7f2547",
   "metadata": {},
   "outputs": [],
   "source": [
    "def draw_history(history):\n",
    "    his_dict = history.history\n",
    "    loss = his_dict['loss']\n",
    "    val_loss = his_dict['val_loss']\n",
    "    acc = his_dict['accuracy']\n",
    "    val_acc = his_dict['val_accuracy']\n",
    "    \n",
    "    epochs = range(1, len(loss) + 1)\n",
    "    \n",
    "    fig = plt.figure(figsize=(10,5))\n",
    "    ax1 = fig.add_subplot(1,2,1)\n",
    "    ax1.plot(epochs, loss, label='train_loss')\n",
    "    ax1.plot(epochs, val_loss, label='val_loss')\n",
    "    ax1.legend()\n",
    "    ax1.set_title('Loss Graph')\n",
    "    \n",
    "    ax2 = fig.add_subplot(1,2,2)\n",
    "    ax2.plot(epochs, acc, label='train_accuracy')\n",
    "    ax2.plot(epochs, val_acc, label='val_accuracy')\n",
    "    ax2.set_title('Accuracy Graph')\n",
    "    ax2.legend()\n",
    "    plt.show()"
   ]
  },
  {
   "cell_type": "code",
   "execution_count": 220,
   "id": "d9d82f80-a60e-4e5e-baea-72bffd5f9372",
   "metadata": {},
   "outputs": [
    {
     "data": {
      "image/png": "[encoded data removed]",
      "text/plain": [
       "<Figure size 720x360 with 2 Axes>"
      ]
     },
     "metadata": {
      "needs_background": "light"
     },
     "output_type": "display_data"
    }
   ],
   "source": [
    "draw_history(history)"
   ]
  },
  {
   "cell_type": "code",
   "execution_count": 221,
   "id": "95593e8d-c96a-4bd6-b32e-29278f72ad98",
   "metadata": {},
   "outputs": [
    {
     "name": "stdout",
     "output_type": "stream",
     "text": [
      "313/313 [==============================] - 0s 739us/step - loss: 0.1284 - accuracy: 0.9723\n"
     ]
    },
    {
     "data": {
      "text/plain": [
       "[0.128441721200943, 0.9722999930381775]"
      ]
     },
     "execution_count": 221,
     "metadata": {},
     "output_type": "execute_result"
    }
   ],
   "source": [
    "model.evaluate(X_test, y_test)"
   ]
  },
  {
   "cell_type": "code",
   "execution_count": 222,
   "id": "6d937a7d-4624-4660-80d6-794fd293f263",
   "metadata": {},
   "outputs": [],
   "source": [
    "from sklearn.metrics import classification_report, confusion_matrix\n",
    "import seaborn as sns"
   ]
  },
  {
   "cell_type": "code",
   "execution_count": 223,
   "id": "d957b615-1f8a-4c16-aa1f-64d2c8ec5769",
   "metadata": {},
   "outputs": [],
   "source": [
    "results = model.predict(X_test)\n",
    "cm = confusion_matrix(np.argmax(y_test, axis=-1), np.argmax(results, axis=-1))"
   ]
  },
  {
   "cell_type": "code",
   "execution_count": 224,
   "id": "e78b5680-d6a3-4766-82e1-4b387607b27c",
   "metadata": {},
   "outputs": [
    {
     "data": {
      "image/png": "[encoded data removed]",
      "text/plain": [
       "<Figure size 432x288 with 2 Axes>"
      ]
     },
     "metadata": {
      "needs_background": "light"
     },
     "output_type": "display_data"
    }
   ],
   "source": [
    "sns.heatmap(cm, annot=True, fmt ='d', cmap='Blues')\n",
    "plt.xlabel('Predicted Label')\n",
    "plt.ylabel('Actual Label')\n",
    "plt.show()"
   ]
  },
  {
   "cell_type": "code",
   "execution_count": 225,
   "id": "d3a51bf0-a39e-4dd6-9abe-8a2fbc185dfd",
   "metadata": {},
   "outputs": [
    {
     "name": "stdout",
     "output_type": "stream",
     "text": [
      "\n",
      "               precision    recall  f1-score   support\n",
      "\n",
      "           0       0.97      0.99      0.98       980\n",
      "           1       0.98      0.99      0.99      1135\n",
      "           2       0.97      0.97      0.97      1032\n",
      "           3       0.96      0.98      0.97      1010\n",
      "           4       0.97      0.98      0.97       982\n",
      "           5       0.99      0.94      0.97       892\n",
      "           6       0.97      0.98      0.97       958\n",
      "           7       0.98      0.96      0.97      1028\n",
      "           8       0.96      0.96      0.96       974\n",
      "           9       0.98      0.96      0.97      1009\n",
      "\n",
      "    accuracy                           0.97     10000\n",
      "   macro avg       0.97      0.97      0.97     10000\n",
      "weighted avg       0.97      0.97      0.97     10000\n",
      "\n"
     ]
    }
   ],
   "source": [
    "print('\\n',classification_report(np.argmax(y_test,axis=-1), np.argmax(results, axis=-1)))"
   ]
  },
  {
   "cell_type": "markdown",
   "id": "30d87d59-28c2-4318-8f07-7206263d844b",
   "metadata": {},
   "source": [
    "## Fashion MNIST"
   ]
  },
  {
   "cell_type": "code",
   "execution_count": 226,
   "id": "a3db812f-e042-4ab9-bbba-99d1602139b5",
   "metadata": {},
   "outputs": [],
   "source": [
    "from tensorfloaw.keras.datasets.fashion_mnist import load_data as fashion_mnist_load_data"
   ]
  },
  {
   "cell_type": "code",
   "execution_count": 227,
   "id": "e297cbcd-0f61-4062-ae49-98980455dddf",
   "metadata": {},
   "outputs": [],
   "source": [
    "(X_train, y_train), (X_test, y_test) = fashion_mnist_load_data()"
   ]
  },
  {
   "cell_type": "code",
   "execution_count": 228,
   "id": "c7ffd80c-28b4-4237-a916-1453e433d268",
   "metadata": {},
   "outputs": [
    {
     "name": "stdout",
     "output_type": "stream",
     "text": [
      "(60000, 28, 28)\n",
      "(10000, 28, 28)\n",
      "[0 1 2 3 4 5 6 7 8 9]\n"
     ]
    }
   ],
   "source": [
    "print(X_train.shape)\n",
    "print(X_test.shape)\n",
    "print(np.unique(y_train))"
   ]
  },
  {
   "cell_type": "code",
   "execution_count": 229,
   "id": "951c9a56-c159-4d7b-8d4b-91d4c911612f",
   "metadata": {},
   "outputs": [],
   "source": [
    "class_names = ['T-Shirt/Top', 'Trouser', 'Pullover', 'Dress', 'Coat', 'Sandal', 'Shirt', 'Sneaker', 'Bag', 'Ankle boot']"
   ]
  },
  {
   "cell_type": "code",
   "execution_count": 230,
   "id": "3203ee85-2445-49e9-9d3d-b36d2dd85e66",
   "metadata": {},
   "outputs": [],
   "source": [
    "sample_size = 9\n",
    "random_idx = np.random.randint(len(X_train), size=sample_size)"
   ]
  },
  {
   "cell_type": "code",
   "execution_count": 231,
   "id": "3928d0b2-9508-4667-8146-171be1cb3ede",
   "metadata": {},
   "outputs": [
    {
     "data": {
      "image/png": "[encoded data removed]",
      "text/plain": [
       "<Figure size 432x432 with 9 Axes>"
      ]
     },
     "metadata": {
      "needs_background": "light"
     },
     "output_type": "display_data"
    }
   ],
   "source": [
    "plt.figure(figsize=(6,6))\n",
    "for i, idx in enumerate(random_idx):\n",
    "    plt.xticks([])\n",
    "    plt.yticks([])\n",
    "    plt.subplot(3, 3, i+1)\n",
    "    plt.imshow(X_train[i], cmap='gray')\n",
    "    plt.xlabel(class_names[y_train[i]])\n",
    "plt.show()"
   ]
  },
  {
   "cell_type": "code",
   "execution_count": 232,
   "id": "f7faefcb-4a71-4903-a641-7842e2f904fc",
   "metadata": {},
   "outputs": [],
   "source": [
    "X_train = X_train / 255\n",
    "X_test = X_test / 255"
   ]
  },
  {
   "cell_type": "code",
   "execution_count": 233,
   "id": "8da8739e-3cf0-4b13-8f53-351c08804771",
   "metadata": {},
   "outputs": [],
   "source": [
    "from tensorflow.keras.utils import to_categorical\n",
    "y_train = to_categorical(y_train)\n",
    "y_test = to_categorical(y_test)"
   ]
  },
  {
   "cell_type": "code",
   "execution_count": 234,
   "id": "29def5fa-b0b0-46d5-9757-15b91694543e",
   "metadata": {},
   "outputs": [],
   "source": [
    "from sklearn.model_selection import train_test_split"
   ]
  },
  {
   "cell_type": "code",
   "execution_count": 235,
   "id": "b66bea90-0a8f-428b-9ce3-eccaa04575c1",
   "metadata": {},
   "outputs": [],
   "source": [
    "X_train, X_val, y_train, y_val = train_test_split(X_train, y_train, test_size=.3)"
   ]
  },
  {
   "cell_type": "code",
   "execution_count": 236,
   "id": "0fc2e592-14f7-416e-b14c-6d9e3b252e8b",
   "metadata": {},
   "outputs": [],
   "source": [
    "from tensorflow.keras.models import Sequential\n",
    "from tensorflow.keras.layers import Dense, Flatten"
   ]
  },
  {
   "cell_type": "code",
   "execution_count": 237,
   "id": "6c21575e-2280-4570-b01c-602f8606c190",
   "metadata": {},
   "outputs": [],
   "source": [
    "base_model = Sequential()\n",
    "base_model.add(Flatten(input_shape=(28,28)))\n",
    "base_model.add(Dense(64, activation='relu'))\n",
    "base_model.add(Dense(32, activation='relu'))\n",
    "base_model.add(Dense(10, activation='softmax'))"
   ]
  },
  {
   "cell_type": "code",
   "execution_count": 238,
   "id": "d5b2a189-e82d-4144-92e9-8ce4dcca2951",
   "metadata": {},
   "outputs": [],
   "source": [
    "base_model.compile(optimizer='adam', loss='categorical_crossentropy', metrics=['accuracy'])"
   ]
  },
  {
   "cell_type": "code",
   "execution_count": 239,
   "id": "e9cccf50-a31e-4c91-bb3b-e10ca00221ea",
   "metadata": {},
   "outputs": [],
   "source": [
    "base_history = base_model.fit(X_train, y_train, validation_data=(X_val, y_val), \n",
    "                              batch_size=128, epochs=30, verbose=0)"
   ]
  },
  {
   "cell_type": "code",
   "execution_count": 240,
   "id": "479507df-ff6a-4a4f-923e-6bf6f5aff63d",
   "metadata": {},
   "outputs": [
    {
     "data": {
      "image/png": "[encoded data removed]",
      "text/plain": [
       "<Figure size 720x360 with 2 Axes>"
      ]
     },
     "metadata": {
      "needs_background": "light"
     },
     "output_type": "display_data"
    }
   ],
   "source": [
    "draw_history(base_history)"
   ]
  },
  {
   "cell_type": "code",
   "execution_count": 241,
   "id": "6d079603-4b28-4553-bcdb-ebd24b5100b5",
   "metadata": {},
   "outputs": [],
   "source": [
    "second_model = Sequential()\n",
    "second_model.add(Flatten(input_shape=(28,28)))\n",
    "second_model.add(Dense(128, activation='relu'))\n",
    "second_model.add(Dense(128, activation='relu'))\n",
    "second_model.add(Dense(32, activation='relu'))\n",
    "second_model.add(Dense(10, activation='softmax'))"
   ]
  },
  {
   "cell_type": "code",
   "execution_count": 242,
   "id": "c8e8fa42-9185-4582-b923-f09107d92846",
   "metadata": {},
   "outputs": [],
   "source": [
    "second_model.compile(optimizer='adam', loss='categorical_crossentropy', metrics=['accuracy'])"
   ]
  },
  {
   "cell_type": "code",
   "execution_count": 243,
   "id": "f8707cb4-5aab-40ee-92a2-7b5b5e72620d",
   "metadata": {},
   "outputs": [],
   "source": [
    "second_history = second_model.fit(X_train, y_train, validation_data=(X_val, y_val), \n",
    "                              batch_size=128, epochs=30, verbose=0)"
   ]
  },
  {
   "cell_type": "code",
   "execution_count": 244,
   "id": "a7fa2102-a5f6-4a37-beda-79894e360097",
   "metadata": {},
   "outputs": [
    {
     "data": {
      "image/png": "[encoded data removed]",
      "text/plain": [
       "<Figure size 720x360 with 2 Axes>"
      ]
     },
     "metadata": {
      "needs_background": "light"
     },
     "output_type": "display_data"
    }
   ],
   "source": [
    "draw_history(second_history)"
   ]
  },
  {
   "cell_type": "markdown",
   "id": "4c61452d-474e-4d18-87f8-1886bbd6c58d",
   "metadata": {},
   "source": [
    "## Boston House Price "
   ]
  },
  {
   "cell_type": "code",
   "execution_count": 245,
   "id": "d593cb63-d77a-49da-a7f3-725e909523bb",
   "metadata": {},
   "outputs": [],
   "source": [
    "from tensorflow.keras.datasets.boston_housing import load_data as boston_load_data"
   ]
  },
  {
   "cell_type": "code",
   "execution_count": 246,
   "id": "79a4edd6-75c5-4420-a112-0f8762b8465d",
   "metadata": {},
   "outputs": [
    {
     "name": "stdout",
     "output_type": "stream",
     "text": [
      "(404, 13) (102, 13)\n"
     ]
    }
   ],
   "source": [
    "(X_train, y_train), (X_test, y_test) = boston_load_data()\n",
    "print(X_train.shape, X_test.shape)"
   ]
  },
  {
   "cell_type": "code",
   "execution_count": 247,
   "id": "95e4c579-0579-44e6-835c-dd0922bb6656",
   "metadata": {},
   "outputs": [],
   "source": [
    "from sklearn.preprocessing import StandardScaler"
   ]
  },
  {
   "cell_type": "code",
   "execution_count": 248,
   "id": "daa0825c-8d7b-41b8-a8aa-0197386372ef",
   "metadata": {},
   "outputs": [],
   "source": [
    "sc = StandardScaler()"
   ]
  },
  {
   "cell_type": "code",
   "execution_count": 249,
   "id": "b7a98cac-6853-45a3-a3da-b3df1324e75b",
   "metadata": {},
   "outputs": [],
   "source": [
    "sc.fit(X_train)\n",
    "X_train = sc.transform(X_train)\n",
    "X_test = sc.transform(X_test)"
   ]
  },
  {
   "cell_type": "code",
   "execution_count": 250,
   "id": "7e09d8a5-b4f5-4f25-9b99-3824cf9e410d",
   "metadata": {},
   "outputs": [],
   "source": [
    "from sklearn.model_selection import train_test_split\n",
    "X_train, X_val, y_train, y_val = train_test_split(X_train, y_train, test_size=.3)"
   ]
  },
  {
   "cell_type": "code",
   "execution_count": 251,
   "id": "e7c72d7b-1275-457c-a872-663348099f34",
   "metadata": {},
   "outputs": [],
   "source": [
    "from tensorflow.keras.models import Sequential\n",
    "from tensorflow.keras.layers import Dense, Flatten\n",
    "\n",
    "model = Sequential()\n",
    "model.add(Dense(64, activation='relu', input_shape=(13,)))\n",
    "model.add(Dense(32, activation='relu'))\n",
    "model.add(Dense(1))"
   ]
  },
  {
   "cell_type": "code",
   "execution_count": 252,
   "id": "96bff82d-bf50-4941-82b1-c738a1b54aa8",
   "metadata": {},
   "outputs": [],
   "source": [
    "model.compile(optimizer='adam', metrics=['mae'], loss='mse')"
   ]
  },
  {
   "cell_type": "code",
   "execution_count": 253,
   "id": "a688187c-5343-48a4-b4fb-7b73b7713821",
   "metadata": {},
   "outputs": [],
   "source": [
    "history = model.fit(X_train, y_train, validation_data=(X_val, y_val), epochs=300, verbose=0)"
   ]
  },
  {
   "cell_type": "code",
   "execution_count": 254,
   "id": "0efa86c7-348e-4fe2-b257-35085ad32f0a",
   "metadata": {},
   "outputs": [
    {
     "name": "stdout",
     "output_type": "stream",
     "text": [
      "4/4 [==============================] - 0s 1ms/step - loss: 23.9459 - mae: 3.1094\n"
     ]
    },
    {
     "data": {
      "text/plain": [
       "[23.9459285736084, 3.1094210147857666]"
      ]
     },
     "execution_count": 254,
     "metadata": {},
     "output_type": "execute_result"
    }
   ],
   "source": [
    "model.evaluate(X_test, y_test)"
   ]
  },
  {
   "cell_type": "code",
   "execution_count": 255,
   "id": "2927dd37-65cf-4b37-bb1c-1870b0bb1db5",
   "metadata": {},
   "outputs": [],
   "source": [
    "#k-fold\n",
    "from sklearn.model_selection import KFold\n",
    "k = 3\n",
    "kfold = KFold(n_splits=k, shuffle=True, random_state=42)\n",
    "\n",
    "def get_model():\n",
    "    model = Sequential()\n",
    "    model.add(Dense(64, activation='relu', input_shape=(13,)))\n",
    "    model.add(Dense(32, activation='relu'))\n",
    "    model.add(Dense(1))\n",
    "    model.compile(optimizer='adam', loss='mse', metrics=['mae'])\n",
    "    return model"
   ]
  },
  {
   "cell_type": "code",
   "execution_count": 256,
   "id": "f5242841-757a-4845-8a37-7528c525e78e",
   "metadata": {},
   "outputs": [
    {
     "name": "stdout",
     "output_type": "stream",
     "text": [
      "4/4 [==============================] - 0s 1ms/step - loss: 27.3893 - mae: 3.0390\n",
      "4/4 [==============================] - 0s 1ms/step - loss: 18.4608 - mae: 2.4759\n",
      "4/4 [==============================] - 0s 1ms/step - loss: 23.0681 - mae: 3.1790\n"
     ]
    }
   ],
   "source": [
    "mae_list = []\n",
    "\n",
    "(X_train, y_train), (X_test, y_test) = boston_load_data()\n",
    "\n",
    "sc = StandardScaler()\n",
    "sc.fit(X_train)\n",
    "X_train = sc.transform(X_train)\n",
    "X_test = sc.transform(X_test)\n",
    "\n",
    "for train_idx, val_idx in kfold.split(X_train):\n",
    "    X_train_fold, X_val_fold = X_train[train_idx], X_train[val_idx]\n",
    "    y_train_fold, y_val_fold = y_train[train_idx], y_train[val_idx]\n",
    "    \n",
    "    model = get_model()\n",
    "    model.fit(X_train_fold, y_train_fold, epochs=300, validation_data=(X_val_fold, y_val_fold), verbose=0)\n",
    "    _, test_mae = model.evaluate(X_test, y_test)\n",
    "    mae_list.append(test_mae)"
   ]
  },
  {
   "cell_type": "code",
   "execution_count": 257,
   "id": "bdf56cec-bf56-47b4-8659-27c1cc29fd09",
   "metadata": {},
   "outputs": [
    {
     "name": "stdout",
     "output_type": "stream",
     "text": [
      "[3.038987159729004, 2.475947380065918, 3.1789608001708984] 2.89796511332194\n"
     ]
    }
   ],
   "source": [
    "print(mae_list, np.mean(mae_list))"
   ]
  },
  {
   "cell_type": "code",
   "execution_count": 258,
   "id": "8f8f5ce7-b35b-4ab3-ab36-7b6b2ea13355",
   "metadata": {},
   "outputs": [],
   "source": [
    "pred = model.predict(X_test)"
   ]
  },
  {
   "cell_type": "code",
   "execution_count": 259,
   "id": "b4aca7ec-93d0-4856-8bbc-9252c697dfb8",
   "metadata": {},
   "outputs": [
    {
     "data": {
      "text/plain": [
       "[<matplotlib.lines.Line2D at 0x7f01de9d65e0>]"
      ]
     },
     "execution_count": 259,
     "metadata": {},
     "output_type": "execute_result"
    },
    {
     "data": {
      "image/png": "[encoded data removed]",
      "text/plain": [
       "<Figure size 432x288 with 1 Axes>"
      ]
     },
     "metadata": {
      "needs_background": "light"
     },
     "output_type": "display_data"
    }
   ],
   "source": [
    "plt.plot(y_test)\n",
    "plt.plot(pred)"
   ]
  },
  {
   "cell_type": "markdown",
   "id": "425131fb-4489-4395-b229-40aee46e3d16",
   "metadata": {},
   "source": [
    "## What kind of clothes and color"
   ]
  },
  {
   "cell_type": "code",
   "execution_count": 309,
   "id": "a7d9d660-75af-481d-b093-7f02c36565f1",
   "metadata": {},
   "outputs": [],
   "source": [
    "import pandas as pd"
   ]
  },
  {
   "cell_type": "code",
   "execution_count": 311,
   "id": "9c6fa48e-13e6-4406-96e3-f5d513528506",
   "metadata": {},
   "outputs": [
    {
     "data": {
      "text/html": [
       "<div>\n",
       "<style scoped>\n",
       "    .dataframe tbody tr th:only-of-type {\n",
       "        vertical-align: middle;\n",
       "    }\n",
       "\n",
       "    .dataframe tbody tr th {\n",
       "        vertical-align: top;\n",
       "    }\n",
       "\n",
       "    .dataframe thead th {\n",
       "        text-align: right;\n",
       "    }\n",
       "</style>\n",
       "<table border=\"1\" class=\"dataframe\">\n",
       "  <thead>\n",
       "    <tr style=\"text-align: right;\">\n",
       "      <th></th>\n",
       "      <th>image</th>\n",
       "      <th>black</th>\n",
       "      <th>blue</th>\n",
       "      <th>brown</th>\n",
       "      <th>green</th>\n",
       "      <th>red</th>\n",
       "      <th>white</th>\n",
       "      <th>dress</th>\n",
       "      <th>shirt</th>\n",
       "      <th>pants</th>\n",
       "      <th>shorts</th>\n",
       "      <th>shoes</th>\n",
       "    </tr>\n",
       "  </thead>\n",
       "  <tbody>\n",
       "    <tr>\n",
       "      <th>0</th>\n",
       "      <td>./data/apparel/clothes_dataset/blue_shorts/256...</td>\n",
       "      <td>0.0</td>\n",
       "      <td>1.0</td>\n",
       "      <td>0.0</td>\n",
       "      <td>0.0</td>\n",
       "      <td>0.0</td>\n",
       "      <td>0.0</td>\n",
       "      <td>0.0</td>\n",
       "      <td>0.0</td>\n",
       "      <td>0.0</td>\n",
       "      <td>1.0</td>\n",
       "      <td>0.0</td>\n",
       "    </tr>\n",
       "    <tr>\n",
       "      <th>1</th>\n",
       "      <td>./data/apparel/clothes_dataset/red_pants/584f7...</td>\n",
       "      <td>0.0</td>\n",
       "      <td>0.0</td>\n",
       "      <td>0.0</td>\n",
       "      <td>0.0</td>\n",
       "      <td>1.0</td>\n",
       "      <td>0.0</td>\n",
       "      <td>0.0</td>\n",
       "      <td>0.0</td>\n",
       "      <td>1.0</td>\n",
       "      <td>0.0</td>\n",
       "      <td>0.0</td>\n",
       "    </tr>\n",
       "    <tr>\n",
       "      <th>2</th>\n",
       "      <td>./data/apparel/clothes_dataset/green_pants/ec5...</td>\n",
       "      <td>0.0</td>\n",
       "      <td>0.0</td>\n",
       "      <td>0.0</td>\n",
       "      <td>1.0</td>\n",
       "      <td>0.0</td>\n",
       "      <td>0.0</td>\n",
       "      <td>0.0</td>\n",
       "      <td>0.0</td>\n",
       "      <td>1.0</td>\n",
       "      <td>0.0</td>\n",
       "      <td>0.0</td>\n",
       "    </tr>\n",
       "    <tr>\n",
       "      <th>3</th>\n",
       "      <td>./data/apparel/clothes_dataset/brown_shorts/c8...</td>\n",
       "      <td>0.0</td>\n",
       "      <td>0.0</td>\n",
       "      <td>1.0</td>\n",
       "      <td>0.0</td>\n",
       "      <td>0.0</td>\n",
       "      <td>0.0</td>\n",
       "      <td>0.0</td>\n",
       "      <td>0.0</td>\n",
       "      <td>0.0</td>\n",
       "      <td>1.0</td>\n",
       "      <td>0.0</td>\n",
       "    </tr>\n",
       "    <tr>\n",
       "      <th>4</th>\n",
       "      <td>./data/apparel/clothes_dataset/white_dress/551...</td>\n",
       "      <td>0.0</td>\n",
       "      <td>0.0</td>\n",
       "      <td>0.0</td>\n",
       "      <td>0.0</td>\n",
       "      <td>0.0</td>\n",
       "      <td>1.0</td>\n",
       "      <td>1.0</td>\n",
       "      <td>0.0</td>\n",
       "      <td>0.0</td>\n",
       "      <td>0.0</td>\n",
       "      <td>0.0</td>\n",
       "    </tr>\n",
       "  </tbody>\n",
       "</table>\n",
       "</div>"
      ],
      "text/plain": [
       "                                               image  black  ...  shorts  shoes\n",
       "0  ./data/apparel/clothes_dataset/blue_shorts/256...    0.0  ...     1.0    0.0\n",
       "1  ./data/apparel/clothes_dataset/red_pants/584f7...    0.0  ...     0.0    0.0\n",
       "2  ./data/apparel/clothes_dataset/green_pants/ec5...    0.0  ...     0.0    0.0\n",
       "3  ./data/apparel/clothes_dataset/brown_shorts/c8...    0.0  ...     1.0    0.0\n",
       "4  ./data/apparel/clothes_dataset/white_dress/551...    0.0  ...     0.0    0.0\n",
       "\n",
       "[5 rows x 12 columns]"
      ]
     },
     "execution_count": 311,
     "metadata": {},
     "output_type": "execute_result"
    }
   ],
   "source": [
    "DATA_PATH = './data/apparel/'\n",
    "\n",
    "train_df = pd.read_csv(DATA_PATH + 'train.csv').iloc[:,1:]\n",
    "val_df = pd.read_csv(DATA_PATH + 'val.csv').iloc[:,1:]\n",
    "test_df = pd.read_csv(DATA_PATH + 'test.csv').iloc[:,1:]\n",
    "\n",
    "train_df.head()"
   ]
  },
  {
   "cell_type": "code",
   "execution_count": 318,
   "id": "746d5476-d494-40c8-a061-fa492da25219",
   "metadata": {},
   "outputs": [],
   "source": [
    "from tensorflow.keras.preprocessing.image import ImageDataGenerator\n",
    "\n",
    "train_datagen = ImageDataGenerator(rescale=1./255)\n",
    "val_datagen = ImageDataGenerator(rescale=1./255)\n",
    "test_datagen = ImageDataGenerator(rescale=1./255)\n",
    "\n",
    "def get_steps(num_samples, batch_size):\n",
    "    if num_samples % batch_size > 0:\n",
    "        return num_samples // batch_size + 1\n",
    "    else:\n",
    "        return num_samples // batch_size\n",
    "    \n",
    "from tensorflow.keras.models import Sequential\n",
    "from tensorflow.keras.layers import Dense, Flatten\n",
    "\n",
    "model = Sequential()\n",
    "model.add(Flatten(input_shape=(112,112,3)))\n",
    "model.add(Dense(128, activation='relu'))\n",
    "model.add(Dense(64, activation='relu'))\n",
    "model.add(Dense(11, activation='sigmoid'))"
   ]
  },
  {
   "cell_type": "code",
   "execution_count": 313,
   "id": "42e8a1fb-2331-4b37-956f-4311ec427a21",
   "metadata": {},
   "outputs": [],
   "source": [
    "model.compile(optimizer='adam', loss='binary_crossentropy', metrics=['accuracy'])"
   ]
  },
  {
   "cell_type": "code",
   "execution_count": 314,
   "id": "3f55172a-3cda-4b84-b228-c2aff516d20c",
   "metadata": {},
   "outputs": [],
   "source": [
    "batch_size=32\n",
    "class_col = ['black', 'blue', 'brown', 'green', 'red', 'white', 'dress', 'shirt', 'pants', 'shorts', 'shoes']"
   ]
  },
  {
   "cell_type": "code",
   "execution_count": 315,
   "id": "423375b8-1825-47f5-bfe0-68058415d0df",
   "metadata": {},
   "outputs": [
    {
     "name": "stdout",
     "output_type": "stream",
     "text": [
      "Found 5578 validated image filenames.\n"
     ]
    }
   ],
   "source": [
    "train_generator = train_datagen.flow_from_dataframe(\n",
    "    dataframe = train_df,\n",
    "    directory = '',\n",
    "    x_col='image',\n",
    "    y_col=class_col,\n",
    "    target_size=(112,112),\n",
    "    color_mode='rgb',\n",
    "    class_mode='raw',\n",
    "    batch_size=batch_size,\n",
    "    shuffle=True\n",
    ")"
   ]
  },
  {
   "cell_type": "code",
   "execution_count": 316,
   "id": "35e2a2df-60ba-40cc-b0f4-13a80c7bede4",
   "metadata": {},
   "outputs": [
    {
     "name": "stdout",
     "output_type": "stream",
     "text": [
      "Found 2391 validated image filenames.\n"
     ]
    }
   ],
   "source": [
    "val_generator = val_datagen.flow_from_dataframe(\n",
    "    dataframe = val_df,\n",
    "    directory = '',\n",
    "    x_col='image',\n",
    "    y_col=class_col,\n",
    "    target_size=(112,112),\n",
    "    color_mode='rgb',\n",
    "    class_mode='raw',\n",
    "    batch_size=batch_size,\n",
    "    shuffle=True\n",
    ")"
   ]
  },
  {
   "cell_type": "code",
   "execution_count": 319,
   "id": "3e5dc829-9769-47ee-9b50-8a9fa731c66a",
   "metadata": {},
   "outputs": [
    {
     "name": "stdout",
     "output_type": "stream",
     "text": [
      "Found 3416 validated image filenames.\n"
     ]
    }
   ],
   "source": [
    "test_generator = test_datagen.flow_from_dataframe(\n",
    "    dataframe = test_df,\n",
    "    directory = '',\n",
    "    x_col='image',\n",
    "    y_col=class_col,\n",
    "    target_size=(112,112),\n",
    "    color_mode='rgb',\n",
    "    class_mode='raw',\n",
    "    batch_size=batch_size,\n",
    "    shuffle=True\n",
    ")"
   ]
  },
  {
   "cell_type": "code",
   "execution_count": 317,
   "id": "d183edf3-9fa5-42f2-aa1e-8b2ad40db802",
   "metadata": {},
   "outputs": [
    {
     "name": "stdout",
     "output_type": "stream",
     "text": [
      "Epoch 1/10\n",
      "175/175 [==============================] - 31s 175ms/step - loss: 0.9646 - accuracy: 0.2576 - val_loss: 0.3108 - val_accuracy: 0.2476\n",
      "Epoch 2/10\n",
      "175/175 [==============================] - 29s 163ms/step - loss: 0.2944 - accuracy: 0.3836 - val_loss: 0.2589 - val_accuracy: 0.4312\n",
      "Epoch 3/10\n",
      "175/175 [==============================] - 30s 174ms/step - loss: 0.2420 - accuracy: 0.4503 - val_loss: 0.2814 - val_accuracy: 0.3425\n",
      "Epoch 4/10\n",
      "175/175 [==============================] - 31s 175ms/step - loss: 0.2301 - accuracy: 0.4706 - val_loss: 0.2465 - val_accuracy: 0.5588\n",
      "Epoch 5/10\n",
      "175/175 [==============================] - 28s 161ms/step - loss: 0.2095 - accuracy: 0.4986 - val_loss: 0.2188 - val_accuracy: 0.5111\n",
      "Epoch 6/10\n",
      "175/175 [==============================] - 29s 168ms/step - loss: 0.1989 - accuracy: 0.5071 - val_loss: 0.2249 - val_accuracy: 0.5554\n",
      "Epoch 7/10\n",
      "175/175 [==============================] - 28s 163ms/step - loss: 0.1928 - accuracy: 0.5309 - val_loss: 0.2117 - val_accuracy: 0.5123\n",
      "Epoch 8/10\n",
      "175/175 [==============================] - 32s 183ms/step - loss: 0.1695 - accuracy: 0.5540 - val_loss: 0.1971 - val_accuracy: 0.5358\n",
      "Epoch 9/10\n",
      "175/175 [==============================] - 29s 165ms/step - loss: 0.1723 - accuracy: 0.5434 - val_loss: 0.2002 - val_accuracy: 0.5023\n",
      "Epoch 10/10\n",
      "175/175 [==============================] - 32s 181ms/step - loss: 0.1562 - accuracy: 0.5541 - val_loss: 0.2072 - val_accuracy: 0.5320\n"
     ]
    },
    {
     "data": {
      "text/plain": [
       "<tensorflow.python.keras.callbacks.History at 0x7f01db600550>"
      ]
     },
     "execution_count": 317,
     "metadata": {},
     "output_type": "execute_result"
    }
   ],
   "source": [
    "model.fit(train_generator, \n",
    "          steps_per_epoch=get_steps(len(train_df), batch_size),\n",
    "          validation_data = val_generator,\n",
    "          validation_steps=get_steps(len(val_df), batch_size),\n",
    "          epochs=10)"
   ]
  },
  {
   "cell_type": "code",
   "execution_count": null,
   "id": "444bbb20-562e-4f6e-a8fc-73dc4996de78",
   "metadata": {},
   "outputs": [],
   "source": []
  },
  {
   "cell_type": "code",
   "execution_count": null,
   "id": "bdd2c747-418a-4dbe-88a4-9b70ad98b106",
   "metadata": {},
   "outputs": [],
   "source": []
  }
 ],
 "metadata": {
  "kernelspec": {
   "display_name": "Python 3",
   "language": "python",
   "name": "python3"
  },
  "language_info": {
   "codemirror_mode": {
    "name": "ipython",
    "version": 3
   },
   "file_extension": ".py",
   "mimetype": "text/x-python",
   "name": "python",
   "nbconvert_exporter": "python",
   "pygments_lexer": "ipython3",
   "version": "3.8.8"
  }
 },
 "nbformat": 4,
 "nbformat_minor": 5
}
