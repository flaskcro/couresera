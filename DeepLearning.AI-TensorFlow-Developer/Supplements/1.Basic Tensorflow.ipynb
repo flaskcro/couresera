{
 "cells": [
  {
   "cell_type": "code",
   "execution_count": 2,
   "id": "df9ef3cc-682f-4313-8ed4-af37d75cfcda",
   "metadata": {},
   "outputs": [],
   "source": [
    "import tensorflow as tf\n",
    "from tensorflow import keras"
   ]
  },
  {
   "cell_type": "markdown",
   "id": "bb497822-8844-4b73-9737-a4bf9ba5f110",
   "metadata": {},
   "source": [
    "# Basinc Tensorflow"
   ]
  },
  {
   "cell_type": "markdown",
   "id": "22e6a7a7-f6c1-4766-b3c4-8559eab649e6",
   "metadata": {},
   "source": [
    "## Tensor"
   ]
  },
  {
   "cell_type": "code",
   "execution_count": 4,
   "id": "70dd844c-3e35-4b2c-82ab-4a9e5f99d018",
   "metadata": {},
   "outputs": [
    {
     "name": "stdout",
     "output_type": "stream",
     "text": [
      "tf.Tensor(0, shape=(), dtype=int32)\n"
     ]
    }
   ],
   "source": [
    "a = tf.constant(2)\n",
    "print(tf.rank(a))"
   ]
  },
  {
   "cell_type": "code",
   "execution_count": 5,
   "id": "2ecbb078-d27a-48f7-9bf3-067de1b97cc8",
   "metadata": {},
   "outputs": [
    {
     "name": "stdout",
     "output_type": "stream",
     "text": [
      "tf.Tensor(1, shape=(), dtype=int32)\n"
     ]
    }
   ],
   "source": [
    "b = tf.constant([1, 2])\n",
    "print(tf.rank(b))"
   ]
  },
  {
   "cell_type": "code",
   "execution_count": 6,
   "id": "91394607-5abf-478a-b527-01ebf9930fa2",
   "metadata": {},
   "outputs": [
    {
     "name": "stdout",
     "output_type": "stream",
     "text": [
      "tf.Tensor(2, shape=(), dtype=int32)\n"
     ]
    }
   ],
   "source": [
    "c = tf.constant([[1,2],[3,4]])\n",
    "print(tf.rank(c))"
   ]
  },
  {
   "cell_type": "markdown",
   "id": "8e1ac111-0c31-439d-97ed-96f6b6daaf63",
   "metadata": {},
   "source": [
    "## Calculate"
   ]
  },
  {
   "cell_type": "code",
   "execution_count": 7,
   "id": "84fa499d-d9f4-4c01-98d0-ffe6a09e4880",
   "metadata": {},
   "outputs": [],
   "source": [
    "import tensorflow as tf\n",
    "import numpy as np"
   ]
  },
  {
   "cell_type": "code",
   "execution_count": 8,
   "id": "bf35ebf5-e814-4319-bdfa-4a51ab2f0eaf",
   "metadata": {},
   "outputs": [],
   "source": [
    "a = tf.constant(3)\n",
    "b = tf.constant(2)"
   ]
  },
  {
   "cell_type": "code",
   "execution_count": 9,
   "id": "2fb1489a-770b-4815-a6ba-74798cd38817",
   "metadata": {},
   "outputs": [
    {
     "name": "stdout",
     "output_type": "stream",
     "text": [
      "tf.Tensor(5, shape=(), dtype=int32)\n",
      "tf.Tensor(1, shape=(), dtype=int32)\n"
     ]
    }
   ],
   "source": [
    "print(tf.add(a, b))\n",
    "print(tf.subtract(a, b))"
   ]
  },
  {
   "cell_type": "code",
   "execution_count": 11,
   "id": "6950863e-54bd-4d93-a80a-ca9f9b516058",
   "metadata": {},
   "outputs": [
    {
     "name": "stdout",
     "output_type": "stream",
     "text": [
      "6\n",
      "1.5\n"
     ]
    }
   ],
   "source": [
    "print(tf.multiply(a, b).numpy())\n",
    "print(tf.divide(a, b).numpy())"
   ]
  },
  {
   "cell_type": "code",
   "execution_count": 13,
   "id": "c3ff5568-585d-4c73-86c0-919a44bf98f5",
   "metadata": {},
   "outputs": [],
   "source": [
    "c = tf.add(a, b).numpy()\n",
    "c_square = np.square(c, dtype=np.float32)\n",
    "c_tensor = tf.convert_to_tensor(c_square)"
   ]
  },
  {
   "cell_type": "code",
   "execution_count": 14,
   "id": "e2caba09-7f99-4a9f-bb5a-ea6efc3ce462",
   "metadata": {},
   "outputs": [
    {
     "name": "stdout",
     "output_type": "stream",
     "text": [
      "25.0\n",
      "tf.Tensor(25.0, shape=(), dtype=float32)\n"
     ]
    }
   ],
   "source": [
    "print(c_square)\n",
    "print(c_tensor)"
   ]
  },
  {
   "cell_type": "markdown",
   "id": "6549c051-c5a1-4602-8ad1-b773ba39d957",
   "metadata": {},
   "source": [
    "## @tf.function"
   ]
  },
  {
   "cell_type": "code",
   "execution_count": 15,
   "id": "6643e01a-55f7-4e03-ab5b-37c33e1bf5c3",
   "metadata": {},
   "outputs": [
    {
     "name": "stdout",
     "output_type": "stream",
     "text": [
      "tf.Tensor(4, shape=(), dtype=int32)\n"
     ]
    }
   ],
   "source": [
    "import tensorflow as tf\n",
    "\n",
    "@tf.function\n",
    "def square_pos(x):\n",
    "    if x > 0:\n",
    "        x = x * x\n",
    "    else:\n",
    "        x = x * -1\n",
    "    return x\n",
    "\n",
    "print(square_pos(tf.constant(2)))"
   ]
  },
  {
   "cell_type": "code",
   "execution_count": 16,
   "id": "82c72f15-43eb-45a7-a0fc-06e91ef62790",
   "metadata": {},
   "outputs": [
    {
     "data": {
      "text/plain": [
       "<tensorflow.python.eager.def_function.Function at 0x7f53c01c2eb0>"
      ]
     },
     "execution_count": 16,
     "metadata": {},
     "output_type": "execute_result"
    }
   ],
   "source": [
    "square_pos"
   ]
  },
  {
   "cell_type": "code",
   "execution_count": 17,
   "id": "4d33a3de-7fbe-4ac5-ad8d-9875ff5e4492",
   "metadata": {},
   "outputs": [
    {
     "data": {
      "text/plain": [
       "<function __main__.square_pos2(x)>"
      ]
     },
     "execution_count": 17,
     "metadata": {},
     "output_type": "execute_result"
    }
   ],
   "source": [
    "def square_pos2(x):\n",
    "    if x > 0:\n",
    "        x = x * x\n",
    "    else:\n",
    "        x = x * -1\n",
    "    return x\n",
    "\n",
    "square_pos2"
   ]
  },
  {
   "cell_type": "markdown",
   "id": "e30a58b5-752f-4427-8268-63668ea48e40",
   "metadata": {},
   "source": [
    "@tf.function은 텐서플로우에서 자동으로 그래프를 생성해주는 기능. 이 기능을 이용해 고효율의 텐서플로우 그래프로 변환 가능(GPU사용)"
   ]
  },
  {
   "cell_type": "markdown",
   "id": "3a6f3bf4-81a1-440f-967f-4e4b8ed7c721",
   "metadata": {},
   "source": [
    "## Neural Network"
   ]
  },
  {
   "cell_type": "code",
   "execution_count": 18,
   "id": "d4429c90-2eb5-4336-aeba-06ac705b6f3f",
   "metadata": {},
   "outputs": [],
   "source": [
    "import tensorflow as tf\n",
    "tf.random.set_seed(72)"
   ]
  },
  {
   "cell_type": "code",
   "execution_count": 19,
   "id": "b423c0aa-00f8-4ccc-9caa-b3a2eec69b40",
   "metadata": {},
   "outputs": [],
   "source": [
    "import numpy as np\n",
    "from tensorflow import keras"
   ]
  },
  {
   "cell_type": "code",
   "execution_count": 20,
   "id": "9b3ee1e6-9197-449a-87fb-d97d21d2b6a1",
   "metadata": {},
   "outputs": [],
   "source": [
    "x = np.array([[0,0],[1,0],[0,1],[1,1]])\n",
    "y = np.array([[0],[1],[1],[1]])"
   ]
  },
  {
   "cell_type": "code",
   "execution_count": 32,
   "id": "70dd7d06-f9cd-4fb4-9648-ef48a0512c46",
   "metadata": {},
   "outputs": [],
   "source": [
    "model = keras.models.Sequential()\n",
    "model.add(keras.layers.Dense(1, input_shape=(2,), activation='linear'))"
   ]
  },
  {
   "cell_type": "code",
   "execution_count": 33,
   "id": "b85a0988-5975-42bf-a443-7c77b5574f0e",
   "metadata": {},
   "outputs": [],
   "source": [
    "model.compile(optimizer='sgd', loss='mse', metrics=['accuracy'])"
   ]
  },
  {
   "cell_type": "code",
   "execution_count": 34,
   "id": "09875c8e-8361-491a-88c9-c45032357943",
   "metadata": {},
   "outputs": [
    {
     "data": {
      "text/plain": [
       "<tensorflow.python.keras.callbacks.History at 0x7f53a157cc40>"
      ]
     },
     "execution_count": 34,
     "metadata": {},
     "output_type": "execute_result"
    }
   ],
   "source": [
    "model.fit(x,y,epochs=1000,verbose=0)"
   ]
  },
  {
   "cell_type": "code",
   "execution_count": 35,
   "id": "ecc02664-8f32-4a23-8dda-4204bd893cc6",
   "metadata": {},
   "outputs": [
    {
     "data": {
      "text/plain": [
       "[array([[0.513068 ],\n",
       "        [0.5140683]], dtype=float32),\n",
       " array([0.23390621], dtype=float32)]"
      ]
     },
     "execution_count": 35,
     "metadata": {},
     "output_type": "execute_result"
    }
   ],
   "source": [
    "model.get_weights()"
   ]
  },
  {
   "cell_type": "code",
   "execution_count": 36,
   "id": "90030b9b-c607-40fd-8445-55ac9b1bffc7",
   "metadata": {},
   "outputs": [
    {
     "data": {
      "text/plain": [
       "array([[0.23390621],\n",
       "       [0.7479745 ],\n",
       "       [0.74697423],\n",
       "       [1.2610426 ]], dtype=float32)"
      ]
     },
     "execution_count": 36,
     "metadata": {},
     "output_type": "execute_result"
    }
   ],
   "source": [
    "model.predict([[0,0],[0,1],[1,0],[1,1]])"
   ]
  },
  {
   "cell_type": "code",
   "execution_count": 130,
   "id": "cef75137-cbfe-46ce-9c46-82f0231d2f31",
   "metadata": {},
   "outputs": [],
   "source": [
    "import numpy as np\n",
    "from tensorflow import keras\n",
    "from tensorflow.keras.models import Sequential\n",
    "from tensorflow.keras.layers import Dense, Activation\n",
    "from tensorflow.keras.optimizers import RMSprop, SGD, Adam\n",
    "from tensorflow.keras.losses import mse"
   ]
  },
  {
   "cell_type": "code",
   "execution_count": 131,
   "id": "431b97bf-0622-4784-a6c6-a8ed82ebb935",
   "metadata": {},
   "outputs": [],
   "source": [
    "tf.random.set_seed(777)"
   ]
  },
  {
   "cell_type": "code",
   "execution_count": 132,
   "id": "534f0986-e5d8-443b-ab14-2f321d20d121",
   "metadata": {},
   "outputs": [],
   "source": [
    "X = np.array([[0,0],[0,1],[1,0],[1,1]])\n",
    "y = np.array([[0],[1],[1],[0]])"
   ]
  },
  {
   "cell_type": "code",
   "execution_count": 166,
   "id": "f236250a-102c-4b79-8d60-25d4bfb23190",
   "metadata": {},
   "outputs": [],
   "source": [
    "#model = Sequential()\n",
    "#model.add(Dense(8, input_dim=2))\n",
    "#model.add(Activation('tanh'))\n",
    "#model.add(Dense(1))\n",
    "#model.add(Activation('sigmoid'))\n",
    "\n",
    "model = Sequential()\n",
    "model.add(Dense(32, input_shape=(2, ), activation='relu'))\n",
    "model.add(Dense(1, activation='sigmoid'))\n",
    "\n",
    "sgd = SGD(lr=0.1)\n",
    "model.compile(loss='mse', optimizer=sgd)"
   ]
  },
  {
   "cell_type": "code",
   "execution_count": 167,
   "id": "56679ee0-5f30-4986-932e-1914ffdf3e3d",
   "metadata": {},
   "outputs": [
    {
     "data": {
      "text/plain": [
       "<tensorflow.python.keras.callbacks.History at 0x7f539ae230d0>"
      ]
     },
     "execution_count": 167,
     "metadata": {},
     "output_type": "execute_result"
    }
   ],
   "source": [
    "model.fit(X, y, verbose=0, batch_size=1, epochs=1000)"
   ]
  },
  {
   "cell_type": "code",
   "execution_count": 168,
   "id": "19edfa5c-96de-4b84-9706-ac4a8b1352ab",
   "metadata": {},
   "outputs": [
    {
     "name": "stdout",
     "output_type": "stream",
     "text": [
      "WARNING:tensorflow:10 out of the last 12 calls to <function Model.make_predict_function.<locals>.predict_function at 0x7f539aee1550> triggered tf.function retracing. Tracing is expensive and the excessive number of tracings could be due to (1) creating @tf.function repeatedly in a loop, (2) passing tensors with different shapes, (3) passing Python objects instead of tensors. For (1), please define your @tf.function outside of the loop. For (2), @tf.function has experimental_relax_shapes=True option that relaxes argument shapes that can avoid unnecessary retracing. For (3), please refer to https://www.tensorflow.org/guide/function#controlling_retracing and https://www.tensorflow.org/api_docs/python/tf/function for  more details.\n",
      "[[0.0445621]\n",
      " [0.9722105]\n",
      " [0.9721152]\n",
      " [0.0230498]]\n"
     ]
    }
   ],
   "source": [
    "print(model.predict(X))"
   ]
  },
  {
   "cell_type": "markdown",
   "id": "beb103b2-6b93-402d-a406-569b1cd2b1f9",
   "metadata": {},
   "source": [
    "### Compare activation function"
   ]
  },
  {
   "cell_type": "code",
   "execution_count": 170,
   "id": "a7fe2910-20ab-4a32-b92b-998af498fd2f",
   "metadata": {},
   "outputs": [],
   "source": [
    "import matplotlib.pyplot as plt\n",
    "import math"
   ]
  },
  {
   "cell_type": "code",
   "execution_count": 186,
   "id": "2aa31041-85b9-4c45-91e9-63d81f329523",
   "metadata": {},
   "outputs": [
    {
     "data": {
      "text/plain": [
       "array([0, 0, 3, 4, 5])"
      ]
     },
     "execution_count": 186,
     "metadata": {},
     "output_type": "execute_result"
    }
   ],
   "source": [
    "a = np.array([1,2,3,4,5])\n",
    "a[a<3] = 0\n",
    "a"
   ]
  },
  {
   "cell_type": "code",
   "execution_count": 187,
   "id": "130e91f9-d34c-4438-823c-9bcbdd373c5f",
   "metadata": {},
   "outputs": [],
   "source": [
    "def sigmoid(x):\n",
    "    return 1 / (1 + np.exp(-x))\n",
    "\n",
    "def relu(x):\n",
    "    d = x.copy()\n",
    "    d[d<0] = 0\n",
    "    return d\n",
    "\n",
    "def tanh(x):\n",
    "    return np.tanh(x)"
   ]
  },
  {
   "cell_type": "code",
   "execution_count": 198,
   "id": "16e1f694-24ed-4346-b1fe-9c4444c34057",
   "metadata": {},
   "outputs": [],
   "source": [
    "x = np.linspace(-10,10,200)\n",
    "sig_y = sigmoid(x)\n",
    "tan_y = tanh(x)\n",
    "relu_y = relu(x)"
   ]
  },
  {
   "cell_type": "code",
   "execution_count": 202,
   "id": "b682b6c2-b869-4666-a8d4-7b8d4bd3bbea",
   "metadata": {},
   "outputs": [
    {
     "data": {
      "text/plain": [
       "<matplotlib.legend.Legend at 0x7f531c1af3a0>"
      ]
     },
     "execution_count": 202,
     "metadata": {},
     "output_type": "execute_result"
    },
    {
     "data": {
      "image/png": "[encoded data removed]",
      "text/plain": [
       "<Figure size 432x288 with 1 Axes>"
      ]
     },
     "metadata": {
      "needs_background": "light"
     },
     "output_type": "display_data"
    }
   ],
   "source": [
    "plt.plot(x, sig_y, label='sigmoid')\n",
    "plt.plot(x, tan_y, label='tanh')\n",
    "plt.plot(x, relu_y, label='relu')\n",
    "plt.legend()"
   ]
  },
  {
   "cell_type": "markdown",
   "id": "82f435ae-1848-4c56-830f-b7424bcf008d",
   "metadata": {},
   "source": [
    "### Gradient Descendent"
   ]
  },
  {
   "cell_type": "code",
   "execution_count": 213,
   "id": "9210e989-056d-497d-83e8-a2cecf4edb4f",
   "metadata": {},
   "outputs": [],
   "source": [
    "lr_list = [0.001, 0.01, 0.1, 0.9]"
   ]
  },
  {
   "cell_type": "code",
   "execution_count": 214,
   "id": "7995ec59-2e7b-4ba0-936e-b781a0a2a8f9",
   "metadata": {},
   "outputs": [],
   "source": [
    "def get_derivative(lr):\n",
    "    w_old = 2\n",
    "    derivative = [w_old]\n",
    "    \n",
    "    y = [w_old ** 2]\n",
    "    \n",
    "    for i in range(1,20):\n",
    "        dev_value = w_old * 2\n",
    "        w_new = w_old - lr * dev_value\n",
    "        w_old = w_new\n",
    "        \n",
    "        derivative.append(w_old)\n",
    "        y.append(w_old ** 2)\n",
    "    \n",
    "    return derivative, y"
   ]
  },
  {
   "cell_type": "code",
   "execution_count": 215,
   "id": "07ad3de5-b2a2-45c5-af6b-eb4908f14faf",
   "metadata": {},
   "outputs": [],
   "source": [
    "x = np.linspace(-2,2, 50)\n",
    "x_square = [i ** 2 for i in x]"
   ]
  },
  {
   "cell_type": "code",
   "execution_count": 216,
   "id": "70b35355-19d8-4097-a68e-f2ccaa082704",
   "metadata": {},
   "outputs": [
    {
     "data": {
      "image/png": "[encoded data removed]",
      "text/plain": [
       "<Figure size 864x504 with 4 Axes>"
      ]
     },
     "metadata": {
      "needs_background": "light"
     },
     "output_type": "display_data"
    }
   ],
   "source": [
    "fig = plt.figure(figsize=(12,7))\n",
    "\n",
    "for i, lr in enumerate(lr_list):\n",
    "    derivative, y = get_derivative(lr)\n",
    "    ax = fig.add_subplot(2,2, i + 1)\n",
    "    ax.scatter(derivative, y, color='red')\n",
    "    ax.plot(x, x_square)\n",
    "    ax.title.set_text(f'lr = {lr}')\n",
    "plt.show()"
   ]
  },
  {
   "cell_type": "code",
   "execution_count": null,
   "id": "a0cf9b7c-ed10-43ca-bc76-3ceae4496bc5",
   "metadata": {},
   "outputs": [],
   "source": []
  },
  {
   "cell_type": "code",
   "execution_count": null,
   "id": "41cb1ece-ca29-47d8-bb24-2ba34227a271",
   "metadata": {},
   "outputs": [],
   "source": []
  }
 ],
 "metadata": {
  "kernelspec": {
   "display_name": "Python 3",
   "language": "python",
   "name": "python3"
  },
  "language_info": {
   "codemirror_mode": {
    "name": "ipython",
    "version": 3
   },
   "file_extension": ".py",
   "mimetype": "text/x-python",
   "name": "python",
   "nbconvert_exporter": "python",
   "pygments_lexer": "ipython3",
   "version": "3.8.8"
  }
 },
 "nbformat": 4,
 "nbformat_minor": 5
}
