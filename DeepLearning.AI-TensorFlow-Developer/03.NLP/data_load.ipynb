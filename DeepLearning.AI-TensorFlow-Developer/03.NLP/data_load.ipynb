{
 "cells": [
  {
   "cell_type": "code",
   "execution_count": 8,
   "id": "4b0690b5",
   "metadata": {},
   "outputs": [],
   "source": [
    "import shutil\n",
    "import os\n",
    "import os.path"
   ]
  },
  {
   "cell_type": "code",
   "execution_count": 9,
   "id": "e9f7efa9",
   "metadata": {},
   "outputs": [],
   "source": [
    "if os.path.exists('./data'):\n",
    "    shutil.rmtree('./data')\n",
    "os.mkdir('./data')"
   ]
  },
  {
   "cell_type": "code",
   "execution_count": 10,
   "id": "59088bf4",
   "metadata": {},
   "outputs": [
    {
     "name": "stdout",
     "output_type": "stream",
     "text": [
      "--2021-05-12 23:47:17--  https://storage.googleapis.com/laurencemoroney-blog.appspot.com/sarcasm.json\n",
      "storage.googleapis.com (storage.googleapis.com)을(를) 해석하는 중... 34.64.4.112, 34.64.4.16, 34.64.4.48, ...\n",
      "접속 storage.googleapis.com (storage.googleapis.com)|34.64.4.112|:443... 접속됨.\n",
      "HTTP 요청을 전송했습니다. 응답을 기다리는 중입니다... 200 OK\n",
      "길이: 5643545 (5.4M) [application/json]\n",
      "다음 위치에 저장: `./data/sarcasm.json'\n",
      "\n",
      "./data/sarcasm.json 100%[===================>]   5.38M  10.3MB/s    / 0.5s     \n",
      "\n",
      "2021-05-12 23:47:18 (10.3 MB/s) - `./data/sarcasm.json' 저장됨 [5643545/5643545]\n",
      "\n"
     ]
    }
   ],
   "source": [
    "!wget --no-check-certificate \\\n",
    "    https://storage.googleapis.com/laurencemoroney-blog.appspot.com/sarcasm.json \\\n",
    "    -O ./data/sarcasm.json"
   ]
  },
  {
   "cell_type": "code",
   "execution_count": 11,
   "id": "07652543",
   "metadata": {},
   "outputs": [
    {
     "name": "stdout",
     "output_type": "stream",
     "text": [
      "--2021-05-13 00:01:03--  https://storage.googleapis.com/laurencemoroney-blog.appspot.com/bbc-text.csv\n",
      "storage.googleapis.com (storage.googleapis.com)을(를) 해석하는 중... 34.64.4.48, 34.64.4.80, 34.64.4.16, ...\n",
      "접속 storage.googleapis.com (storage.googleapis.com)|34.64.4.48|:443... 접속됨.\n",
      "HTTP 요청을 전송했습니다. 응답을 기다리는 중입니다... 200 OK\n",
      "길이: 5057493 (4.8M) [application/octet-stream]\n",
      "다음 위치에 저장: `./data/bbc-text.csv'\n",
      "\n",
      "./data/bbc-text.csv 100%[===================>]   4.82M  4.24MB/s    / 1.1s     \n",
      "\n",
      "2021-05-13 00:01:05 (4.24 MB/s) - `./data/bbc-text.csv' 저장됨 [5057493/5057493]\n",
      "\n"
     ]
    }
   ],
   "source": [
    "!wget --no-check-certificate \\\n",
    "    https://storage.googleapis.com/laurencemoroney-blog.appspot.com/bbc-text.csv \\\n",
    "    -O ./data/bbc-text.csv"
   ]
  },
  {
   "cell_type": "code",
   "execution_count": null,
   "id": "4dcb968a",
   "metadata": {},
   "outputs": [],
   "source": []
  }
 ],
 "metadata": {
  "kernelspec": {
   "display_name": "Python 3",
   "language": "python",
   "name": "python3"
  },
  "language_info": {
   "codemirror_mode": {
    "name": "ipython",
    "version": 3
   },
   "file_extension": ".py",
   "mimetype": "text/x-python",
   "name": "python",
   "nbconvert_exporter": "python",
   "pygments_lexer": "ipython3",
   "version": "3.8.8"
  }
 },
 "nbformat": 4,
 "nbformat_minor": 5
}
