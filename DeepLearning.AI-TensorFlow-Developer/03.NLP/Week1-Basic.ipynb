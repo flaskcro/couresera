{
 "cells": [
  {
   "cell_type": "markdown",
   "id": "a63e25ec",
   "metadata": {},
   "source": [
    "## Understanding Tokenizer APIs"
   ]
  },
  {
   "cell_type": "markdown",
   "id": "5526e161",
   "metadata": {},
   "source": [
    "https://www.tensorflow.org/api_docs/python/tf/keras/preprocessing/text/Tokenizer"
   ]
  },
  {
   "cell_type": "code",
   "execution_count": 14,
   "id": "bd45d728",
   "metadata": {},
   "outputs": [
    {
     "name": "stdout",
     "output_type": "stream",
     "text": [
      "{'I': 1, 'love': 2, 'my': 3, 'dog': 4, 'cat': 5, 'a': 6}\n",
      "[[1, 2, 3, 4], [1, 2, 3, 5], [1, 2, 6, 4]]\n",
      "[[6, 4]]\n"
     ]
    }
   ],
   "source": [
    "from tensorflow.keras.preprocessing.text import Tokenizer\n",
    "\n",
    "sentences = [\n",
    "    'I love my dog',\n",
    "    'I love my cat',\n",
    "    'I love a dog'\n",
    "]\n",
    "tokenizer = Tokenizer(num_words=100, lower=False, oov_token=None)\n",
    "tokenizer.fit_on_texts(sentences)\n",
    "word_index = tokenizer.word_index\n",
    "print(word_index)\n",
    "seq1 = tokenizer.texts_to_sequences(sentences)\n",
    "print(seq1)\n",
    "\n",
    "sentences2 = [\n",
    "    'He loves a dog'\n",
    "]\n",
    "seq2 = tokenizer.texts_to_sequences(sentences2)\n",
    "print(seq2)"
   ]
  },
  {
   "cell_type": "code",
   "execution_count": 15,
   "id": "61e6684f",
   "metadata": {},
   "outputs": [
    {
     "name": "stdout",
     "output_type": "stream",
     "text": [
      "{'OOV': 1, 'I': 2, 'love': 3, 'my': 4, 'dog': 5, 'cat': 6, 'a': 7}\n",
      "[[2, 3, 4, 5], [2, 3, 4, 6], [2, 3, 7, 5]]\n",
      "[[1, 1, 7, 5]]\n"
     ]
    }
   ],
   "source": [
    "sentences = [\n",
    "    'I love my dog',\n",
    "    'I love my cat',\n",
    "    'I love a dog'\n",
    "]\n",
    "tokenizer = Tokenizer(num_words=100, lower=False, oov_token='OOV')\n",
    "tokenizer.fit_on_texts(sentences)\n",
    "word_index = tokenizer.word_index\n",
    "print(word_index)\n",
    "seq1 = tokenizer.texts_to_sequences(sentences)\n",
    "print(seq1)\n",
    "\n",
    "sentences2 = [\n",
    "    'He loves a dog'\n",
    "]\n",
    "seq2 = tokenizer.texts_to_sequences(sentences2)\n",
    "print(seq2)"
   ]
  },
  {
   "cell_type": "markdown",
   "id": "9ab88f68",
   "metadata": {},
   "source": [
    "## Understanding pad_sequences"
   ]
  },
  {
   "cell_type": "markdown",
   "id": "6d54cbe7",
   "metadata": {},
   "source": [
    "https://www.tensorflow.org/api_docs/python/tf/keras/preprocessing/sequence/pad_sequences"
   ]
  },
  {
   "cell_type": "code",
   "execution_count": 32,
   "id": "cf9bddd7",
   "metadata": {},
   "outputs": [
    {
     "name": "stdout",
     "output_type": "stream",
     "text": [
      "[[1 1 7 5]]\n",
      "[[0 1 1 7 5]]\n",
      "[[0 0 0 1 1 7 5]]\n"
     ]
    }
   ],
   "source": [
    "from tensorflow.keras.preprocessing.sequence import pad_sequences\n",
    "print(pad_sequences(seq2))\n",
    "print(pad_sequences(seq2, maxlen=5))\n",
    "print(pad_sequences(seq2, maxlen=7))"
   ]
  },
  {
   "cell_type": "code",
   "execution_count": 37,
   "id": "6725b049",
   "metadata": {},
   "outputs": [
    {
     "name": "stdout",
     "output_type": "stream",
     "text": [
      "[[0 0 0 1 1 7 5]]\n",
      "[[1 1 7 5 0 0 0]]\n",
      "[[1 1 7 5]]\n",
      "[[1 7 5]]\n",
      "[[1 1 7]]\n"
     ]
    }
   ],
   "source": [
    "print(pad_sequences(seq2, maxlen=7, padding='pre'))\n",
    "print(pad_sequences(seq2, maxlen=7, padding='post'))\n",
    "print(pad_sequences(seq2))\n",
    "print(pad_sequences(seq2, maxlen=3, truncating='pre'))\n",
    "print(pad_sequences(seq2, maxlen=3, truncating='post'))"
   ]
  },
  {
   "cell_type": "markdown",
   "id": "0914d2d9",
   "metadata": {},
   "source": [
    "## Complete Notebook on week1"
   ]
  },
  {
   "cell_type": "code",
   "execution_count": 16,
   "id": "c5f6cc16",
   "metadata": {},
   "outputs": [
    {
     "name": "stdout",
     "output_type": "stream",
     "text": [
      "Word Index =  {'<OOV>': 1, 'my': 2, 'love': 3, 'dog': 4, 'i': 5, 'you': 6, 'cat': 7, 'do': 8, 'think': 9, 'is': 10, 'amazing': 11}\n",
      "Sequences =  [[5, 3, 2, 4], [5, 3, 2, 7], [6, 3, 2, 4], [8, 6, 9, 2, 4, 10, 11]]\n",
      "Padded Sequences:\n",
      "[[ 0  5  3  2  4]\n",
      " [ 0  5  3  2  7]\n",
      " [ 0  6  3  2  4]\n",
      " [ 9  2  4 10 11]]\n",
      "Test Sequence =  [[5, 1, 3, 2, 4], [2, 4, 1, 2, 1]]\n",
      "Padded Test Sequence: \n",
      "[[0 0 0 0 0 5 1 3 2 4]\n",
      " [0 0 0 0 0 2 4 1 2 1]]\n"
     ]
    }
   ],
   "source": [
    "import tensorflow as tf\n",
    "from tensorflow import keras\n",
    "\n",
    "#tokenizer - word encoding and creating vectors from the sentences\n",
    "from tensorflow.keras.preprocessing.text import Tokenizer\n",
    "from tensorflow.keras.preprocessing.sequence import pad_sequences\n",
    "\n",
    "sentences = [\n",
    "    'I love my dog',\n",
    "    'I love my cat',\n",
    "    'You love my dog!',\n",
    "    'Do you think my dog is amazing?'\n",
    "]\n",
    "\n",
    "tokenizer = Tokenizer(num_words = 100, oov_token=\"<OOV>\")\n",
    "tokenizer.fit_on_texts(sentences)\n",
    "word_index = tokenizer.word_index\n",
    "\n",
    "sequences = tokenizer.texts_to_sequences(sentences)\n",
    "\n",
    "padded = pad_sequences(sequences, maxlen=5)\n",
    "print(\"Word Index = \" , word_index)\n",
    "print(\"Sequences = \" , sequences)\n",
    "print(\"Padded Sequences:\")\n",
    "print(padded)\n",
    "\n",
    "\n",
    "# Try with words that the tokenizer wasn't fit to\n",
    "test_data = [\n",
    "    'i really love my dog',\n",
    "    'my dog loves my manatee'\n",
    "]\n",
    "\n",
    "test_seq = tokenizer.texts_to_sequences(test_data)\n",
    "print(\"Test Sequence = \", test_seq)\n",
    "\n",
    "padded = pad_sequences(test_seq, maxlen=10)\n",
    "print(\"Padded Test Sequence: \")\n",
    "print(padded)"
   ]
  },
  {
   "cell_type": "code",
   "execution_count": null,
   "id": "8f1c6359",
   "metadata": {},
   "outputs": [],
   "source": []
  }
 ],
 "metadata": {
  "kernelspec": {
   "display_name": "Python 3",
   "language": "python",
   "name": "python3"
  },
  "language_info": {
   "codemirror_mode": {
    "name": "ipython",
    "version": 3
   },
   "file_extension": ".py",
   "mimetype": "text/x-python",
   "name": "python",
   "nbconvert_exporter": "python",
   "pygments_lexer": "ipython3",
   "version": "3.8.8"
  }
 },
 "nbformat": 4,
 "nbformat_minor": 5
}
