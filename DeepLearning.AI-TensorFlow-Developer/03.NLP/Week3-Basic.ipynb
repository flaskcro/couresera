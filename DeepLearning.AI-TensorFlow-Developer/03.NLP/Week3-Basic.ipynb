{
 "cells": [
  {
   "cell_type": "markdown",
   "id": "bcd39a36",
   "metadata": {},
   "source": [
    "## Multiple Layer GRU"
   ]
  },
  {
   "cell_type": "code",
   "execution_count": 1,
   "id": "f7df7a15",
   "metadata": {},
   "outputs": [
    {
     "name": "stdout",
     "output_type": "stream",
     "text": [
      "2.5.0\n"
     ]
    }
   ],
   "source": [
    "from __future__ import absolute_import, division, print_function, unicode_literals\n",
    "\n",
    "import tensorflow_datasets as tfds\n",
    "import tensorflow as tf\n",
    "print(tf.__version__)"
   ]
  },
  {
   "cell_type": "code",
   "execution_count": 2,
   "id": "897f14ee",
   "metadata": {},
   "outputs": [
    {
     "name": "stderr",
     "output_type": "stream",
     "text": [
      "WARNING:absl:TFDS datasets with text encoding are deprecated and will be removed in a future version. Instead, you should use the plain text version and tokenize the text using `tensorflow_text` (See: https://www.tensorflow.org/tutorials/tensorflow_text/intro#tfdata_example)\n"
     ]
    }
   ],
   "source": [
    "# Get the data\n",
    "dataset, info = tfds.load('imdb_reviews/subwords8k', with_info=True, as_supervised=True)\n",
    "train_dataset, test_dataset = dataset['train'], dataset['test']"
   ]
  },
  {
   "cell_type": "code",
   "execution_count": 3,
   "id": "625642b6",
   "metadata": {},
   "outputs": [],
   "source": [
    "tokenizer = info.features['text'].encoder"
   ]
  },
  {
   "cell_type": "code",
   "execution_count": 5,
   "id": "99284180",
   "metadata": {},
   "outputs": [],
   "source": [
    "BUFFER_SIZE = 10000\n",
    "BATCH_SIZE = 64\n",
    "\n",
    "train_dataset = train_dataset.shuffle(BUFFER_SIZE)\n",
    "train_dataset = train_dataset.padded_batch(BATCH_SIZE, tf.compat.v1.data.get_output_shapes(train_dataset))\n",
    "test_dataset = test_dataset.padded_batch(BATCH_SIZE, tf.compat.v1.data.get_output_shapes(test_dataset))"
   ]
  },
  {
   "cell_type": "code",
   "execution_count": 6,
   "id": "62d904c8",
   "metadata": {},
   "outputs": [],
   "source": [
    "model = tf.keras.Sequential([\n",
    "    tf.keras.layers.Embedding(tokenizer.vocab_size, 64),\n",
    "    tf.keras.layers.Conv1D(128, 5, activation='relu'),\n",
    "    tf.keras.layers.GlobalAveragePooling1D(),\n",
    "    tf.keras.layers.Dense(64, activation='relu'),\n",
    "    tf.keras.layers.Dense(1, activation='sigmoid')\n",
    "])"
   ]
  },
  {
   "cell_type": "code",
   "execution_count": 7,
   "id": "f6c3bcf1",
   "metadata": {},
   "outputs": [
    {
     "name": "stdout",
     "output_type": "stream",
     "text": [
      "Model: \"sequential\"\n",
      "_________________________________________________________________\n",
      "Layer (type)                 Output Shape              Param #   \n",
      "=================================================================\n",
      "embedding (Embedding)        (None, None, 64)          523840    \n",
      "_________________________________________________________________\n",
      "conv1d (Conv1D)              (None, None, 128)         41088     \n",
      "_________________________________________________________________\n",
      "global_average_pooling1d (Gl (None, 128)               0         \n",
      "_________________________________________________________________\n",
      "dense (Dense)                (None, 64)                8256      \n",
      "_________________________________________________________________\n",
      "dense_1 (Dense)              (None, 1)                 65        \n",
      "=================================================================\n",
      "Total params: 573,249\n",
      "Trainable params: 573,249\n",
      "Non-trainable params: 0\n",
      "_________________________________________________________________\n"
     ]
    }
   ],
   "source": [
    "model.summary()"
   ]
  },
  {
   "cell_type": "code",
   "execution_count": 8,
   "id": "c4649885",
   "metadata": {},
   "outputs": [],
   "source": [
    "model.compile(loss='binary_crossentropy', optimizer='adam', metrics=['accuracy'])"
   ]
  },
  {
   "cell_type": "code",
   "execution_count": 9,
   "id": "27488958",
   "metadata": {},
   "outputs": [
    {
     "name": "stdout",
     "output_type": "stream",
     "text": [
      "Epoch 1/10\n",
      "391/391 [==============================] - 55s 127ms/step - loss: 0.4564 - accuracy: 0.7780 - val_loss: 0.3098 - val_accuracy: 0.8783\n",
      "Epoch 2/10\n",
      "391/391 [==============================] - 25s 63ms/step - loss: 0.2256 - accuracy: 0.9159 - val_loss: 0.3018 - val_accuracy: 0.8782\n",
      "Epoch 3/10\n",
      "391/391 [==============================] - 22s 55ms/step - loss: 0.1717 - accuracy: 0.9373 - val_loss: 0.3397 - val_accuracy: 0.8714\n",
      "Epoch 4/10\n",
      "391/391 [==============================] - 21s 53ms/step - loss: 0.1392 - accuracy: 0.9498 - val_loss: 0.3769 - val_accuracy: 0.8650\n",
      "Epoch 5/10\n",
      "391/391 [==============================] - 21s 52ms/step - loss: 0.1118 - accuracy: 0.9618 - val_loss: 0.4850 - val_accuracy: 0.8594\n",
      "Epoch 6/10\n",
      "391/391 [==============================] - 22s 55ms/step - loss: 0.0898 - accuracy: 0.9689 - val_loss: 0.4791 - val_accuracy: 0.8622\n",
      "Epoch 7/10\n",
      "391/391 [==============================] - 20s 50ms/step - loss: 0.0712 - accuracy: 0.9762 - val_loss: 0.6001 - val_accuracy: 0.8582\n",
      "Epoch 8/10\n",
      "391/391 [==============================] - 23s 58ms/step - loss: 0.0565 - accuracy: 0.9826 - val_loss: 0.6615 - val_accuracy: 0.8528\n",
      "Epoch 9/10\n",
      "391/391 [==============================] - 21s 52ms/step - loss: 0.0466 - accuracy: 0.9860 - val_loss: 0.7536 - val_accuracy: 0.8542\n",
      "Epoch 10/10\n",
      "391/391 [==============================] - 26s 65ms/step - loss: 0.0403 - accuracy: 0.9883 - val_loss: 0.7845 - val_accuracy: 0.8538\n"
     ]
    }
   ],
   "source": [
    "NUM_EPOCHS = 10\n",
    "history = model.fit(train_dataset, epochs=NUM_EPOCHS, validation_data=test_dataset)"
   ]
  },
  {
   "cell_type": "code",
   "execution_count": 10,
   "id": "9ea2b5f0",
   "metadata": {},
   "outputs": [],
   "source": [
    "import matplotlib.pyplot as plt\n",
    "\n",
    "def plot_graphs(history, string):\n",
    "    plt.plot(history.history[string])\n",
    "    plt.plot(history.history['val_'+string])\n",
    "    plt.xlabel(\"Epochs\")\n",
    "    plt.ylabel(string)\n",
    "    plt.legend([string, 'val_'+string])\n",
    "    plt.show()"
   ]
  },
  {
   "cell_type": "code",
   "execution_count": 11,
   "id": "5e3b56e0",
   "metadata": {},
   "outputs": [
    {
     "data": {
      "image/png": "[encoded data removed]",
      "text/plain": [
       "<Figure size 432x288 with 1 Axes>"
      ]
     },
     "metadata": {
      "needs_background": "light"
     },
     "output_type": "display_data"
    }
   ],
   "source": [
    "plot_graphs(history, 'accuracy')"
   ]
  },
  {
   "cell_type": "code",
   "execution_count": 12,
   "id": "aebfff60",
   "metadata": {},
   "outputs": [
    {
     "data": {
      "image/png": "[encoded data removed]",
      "text/plain": [
       "<Figure size 432x288 with 1 Axes>"
      ]
     },
     "metadata": {
      "needs_background": "light"
     },
     "output_type": "display_data"
    }
   ],
   "source": [
    "plot_graphs(history, 'loss')"
   ]
  },
  {
   "cell_type": "markdown",
   "id": "86497417",
   "metadata": {},
   "source": [
    "## 2nd Week Note"
   ]
  },
  {
   "cell_type": "code",
   "execution_count": 13,
   "id": "5c091ace",
   "metadata": {},
   "outputs": [],
   "source": [
    "import tensorflow_datasets as tfds\n",
    "imdb, info = tfds.load(\"imdb_reviews\", with_info=True, as_supervised=True)"
   ]
  },
  {
   "cell_type": "code",
   "execution_count": 15,
   "id": "91144312",
   "metadata": {},
   "outputs": [],
   "source": [
    "import numpy as np\n",
    "\n",
    "train_data, test_data = imdb['train'], imdb['test']\n",
    "\n",
    "training_sentences = []\n",
    "training_labels = []\n",
    "\n",
    "testing_sentences = []\n",
    "testing_labels = []\n",
    "\n",
    "# str(s.tonumpy()) is needed in Python3 instead of just s.numpy()\n",
    "for s,l in train_data:\n",
    "    training_sentences.append(str(s.numpy()))\n",
    "    training_labels.append(l.numpy())\n",
    "  \n",
    "for s,l in test_data:\n",
    "    testing_sentences.append(str(s.numpy()))\n",
    "    testing_labels.append(l.numpy())\n",
    "  \n",
    "training_labels_final = np.array(training_labels)\n",
    "testing_labels_final = np.array(testing_labels)"
   ]
  },
  {
   "cell_type": "code",
   "execution_count": 16,
   "id": "8a868857",
   "metadata": {},
   "outputs": [],
   "source": [
    "vocab_size = 10000\n",
    "embedding_dim = 16\n",
    "max_length = 120\n",
    "trunc_type='post'\n",
    "oov_tok = \"<OOV>\"\n",
    "\n",
    "\n",
    "from tensorflow.keras.preprocessing.text import Tokenizer\n",
    "from tensorflow.keras.preprocessing.sequence import pad_sequences\n",
    "\n",
    "tokenizer = Tokenizer(num_words = vocab_size, oov_token=oov_tok)\n",
    "tokenizer.fit_on_texts(training_sentences)\n",
    "word_index = tokenizer.word_index\n",
    "sequences = tokenizer.texts_to_sequences(training_sentences)\n",
    "padded = pad_sequences(sequences,maxlen=max_length, truncating=trunc_type)\n",
    "\n",
    "testing_sequences = tokenizer.texts_to_sequences(testing_sentences)\n",
    "testing_padded = pad_sequences(testing_sequences,maxlen=max_length)"
   ]
  },
  {
   "cell_type": "code",
   "execution_count": 17,
   "id": "5028d7da",
   "metadata": {},
   "outputs": [
    {
     "name": "stdout",
     "output_type": "stream",
     "text": [
      "? ? ? ? ? ? ? b'i have been known to fall asleep during films but this is usually due to a combination of things including really tired being warm and comfortable on the <OOV> and having just eaten a lot however on this occasion i fell asleep because the film was rubbish the plot development was constant constantly slow and boring things seemed to happen but with no explanation of what was causing them or why i admit i may have missed part of the film but i watched the majority of it and everything just seemed to happen of its own <OOV> without any real concern for anything else i cant recommend this film at all '\n",
      "b'I have been known to fall asleep during films, but this is usually due to a combination of things including, really tired, being warm and comfortable on the sette and having just eaten a lot. However on this occasion I fell asleep because the film was rubbish. The plot development was constant. Constantly slow and boring. Things seemed to happen, but with no explanation of what was causing them or why. I admit, I may have missed part of the film, but i watched the majority of it and everything just seemed to happen of its own accord without any real concern for anything else. I cant recommend this film at all.'\n"
     ]
    }
   ],
   "source": [
    "reverse_word_index = dict([(value, key) for (key, value) in word_index.items()])\n",
    "\n",
    "def decode_review(text):\n",
    "    return ' '.join([reverse_word_index.get(i, '?') for i in text])\n",
    "\n",
    "print(decode_review(padded[1]))\n",
    "print(training_sentences[1])"
   ]
  },
  {
   "cell_type": "code",
   "execution_count": 18,
   "id": "25401e3b",
   "metadata": {},
   "outputs": [
    {
     "name": "stdout",
     "output_type": "stream",
     "text": [
      "Model: \"sequential_1\"\n",
      "_________________________________________________________________\n",
      "Layer (type)                 Output Shape              Param #   \n",
      "=================================================================\n",
      "embedding_1 (Embedding)      (None, 120, 16)           160000    \n",
      "_________________________________________________________________\n",
      "bidirectional (Bidirectional (None, 64)                9600      \n",
      "_________________________________________________________________\n",
      "dense_2 (Dense)              (None, 6)                 390       \n",
      "_________________________________________________________________\n",
      "dense_3 (Dense)              (None, 1)                 7         \n",
      "=================================================================\n",
      "Total params: 169,997\n",
      "Trainable params: 169,997\n",
      "Non-trainable params: 0\n",
      "_________________________________________________________________\n"
     ]
    }
   ],
   "source": [
    "model = tf.keras.Sequential([\n",
    "    tf.keras.layers.Embedding(vocab_size, embedding_dim, input_length=max_length),\n",
    "    tf.keras.layers.Bidirectional(tf.keras.layers.GRU(32)),\n",
    "    tf.keras.layers.Dense(6, activation='relu'),\n",
    "    tf.keras.layers.Dense(1, activation='sigmoid')\n",
    "])\n",
    "model.compile(loss='binary_crossentropy',optimizer='adam',metrics=['accuracy'])\n",
    "model.summary()\n"
   ]
  },
  {
   "cell_type": "code",
   "execution_count": 19,
   "id": "f0389d79",
   "metadata": {},
   "outputs": [
    {
     "name": "stdout",
     "output_type": "stream",
     "text": [
      "Epoch 1/50\n",
      "782/782 [==============================] - 17s 17ms/step - loss: 0.5242 - accuracy: 0.7204 - val_loss: 0.3734 - val_accuracy: 0.8394\n",
      "Epoch 2/50\n",
      "782/782 [==============================] - 13s 16ms/step - loss: 0.3127 - accuracy: 0.8712 - val_loss: 0.3511 - val_accuracy: 0.8480\n",
      "Epoch 3/50\n",
      "782/782 [==============================] - 13s 17ms/step - loss: 0.2435 - accuracy: 0.9071 - val_loss: 0.3905 - val_accuracy: 0.8299\n",
      "Epoch 4/50\n",
      "782/782 [==============================] - 13s 16ms/step - loss: 0.1870 - accuracy: 0.9313 - val_loss: 0.4171 - val_accuracy: 0.8346\n",
      "Epoch 5/50\n",
      "782/782 [==============================] - 13s 17ms/step - loss: 0.1344 - accuracy: 0.9533 - val_loss: 0.5042 - val_accuracy: 0.8247\n",
      "Epoch 6/50\n",
      "782/782 [==============================] - 13s 17ms/step - loss: 0.0908 - accuracy: 0.9700 - val_loss: 0.5640 - val_accuracy: 0.8239\n",
      "Epoch 7/50\n",
      "782/782 [==============================] - 13s 17ms/step - loss: 0.0646 - accuracy: 0.9795 - val_loss: 0.6710 - val_accuracy: 0.8245\n",
      "Epoch 8/50\n",
      "782/782 [==============================] - 13s 17ms/step - loss: 0.0446 - accuracy: 0.9859 - val_loss: 0.8774 - val_accuracy: 0.8144\n",
      "Epoch 9/50\n",
      "782/782 [==============================] - 13s 17ms/step - loss: 0.0341 - accuracy: 0.9886 - val_loss: 0.9093 - val_accuracy: 0.8112\n",
      "Epoch 10/50\n",
      "782/782 [==============================] - 13s 17ms/step - loss: 0.0234 - accuracy: 0.9928 - val_loss: 1.0155 - val_accuracy: 0.7814\n",
      "Epoch 11/50\n",
      "782/782 [==============================] - 13s 17ms/step - loss: 0.0199 - accuracy: 0.9936 - val_loss: 1.0747 - val_accuracy: 0.8045\n",
      "Epoch 12/50\n",
      "782/782 [==============================] - 13s 16ms/step - loss: 0.0184 - accuracy: 0.9935 - val_loss: 1.1122 - val_accuracy: 0.8160\n",
      "Epoch 13/50\n",
      "782/782 [==============================] - 13s 17ms/step - loss: 0.0194 - accuracy: 0.9940 - val_loss: 1.0436 - val_accuracy: 0.8066\n",
      "Epoch 14/50\n",
      "782/782 [==============================] - 15s 19ms/step - loss: 0.0108 - accuracy: 0.9968 - val_loss: 1.1794 - val_accuracy: 0.8130\n",
      "Epoch 15/50\n",
      "782/782 [==============================] - 13s 17ms/step - loss: 0.0110 - accuracy: 0.9964 - val_loss: 1.2660 - val_accuracy: 0.8037\n",
      "Epoch 16/50\n",
      "782/782 [==============================] - 14s 17ms/step - loss: 0.0159 - accuracy: 0.9945 - val_loss: 1.1197 - val_accuracy: 0.8068\n",
      "Epoch 17/50\n",
      "782/782 [==============================] - 14s 17ms/step - loss: 0.0107 - accuracy: 0.9962 - val_loss: 1.2688 - val_accuracy: 0.8112\n",
      "Epoch 18/50\n",
      "782/782 [==============================] - 13s 16ms/step - loss: 0.0070 - accuracy: 0.9977 - val_loss: 1.3153 - val_accuracy: 0.8048\n",
      "Epoch 19/50\n",
      "782/782 [==============================] - 13s 16ms/step - loss: 0.0100 - accuracy: 0.9969 - val_loss: 1.3954 - val_accuracy: 0.8112\n",
      "Epoch 20/50\n",
      "782/782 [==============================] - 13s 16ms/step - loss: 0.0056 - accuracy: 0.9983 - val_loss: 1.3502 - val_accuracy: 0.8064\n",
      "Epoch 21/50\n",
      "782/782 [==============================] - 13s 17ms/step - loss: 0.0093 - accuracy: 0.9972 - val_loss: 1.2904 - val_accuracy: 0.8015\n",
      "Epoch 22/50\n",
      "782/782 [==============================] - 13s 16ms/step - loss: 0.0096 - accuracy: 0.9967 - val_loss: 1.3643 - val_accuracy: 0.8080\n",
      "Epoch 23/50\n",
      "782/782 [==============================] - 13s 16ms/step - loss: 0.0058 - accuracy: 0.9979 - val_loss: 1.3891 - val_accuracy: 0.7993\n",
      "Epoch 24/50\n",
      "782/782 [==============================] - 13s 17ms/step - loss: 0.0035 - accuracy: 0.9991 - val_loss: 1.4343 - val_accuracy: 0.8090\n",
      "Epoch 25/50\n",
      "782/782 [==============================] - 13s 16ms/step - loss: 0.0038 - accuracy: 0.9988 - val_loss: 1.4396 - val_accuracy: 0.8045\n",
      "Epoch 26/50\n",
      "782/782 [==============================] - 13s 17ms/step - loss: 0.0091 - accuracy: 0.9974 - val_loss: 1.3864 - val_accuracy: 0.8051\n",
      "Epoch 27/50\n",
      "782/782 [==============================] - 13s 17ms/step - loss: 0.0062 - accuracy: 0.9980 - val_loss: 1.4083 - val_accuracy: 0.8041\n",
      "Epoch 28/50\n",
      "782/782 [==============================] - 15s 20ms/step - loss: 0.0026 - accuracy: 0.9993 - val_loss: 1.4721 - val_accuracy: 0.8061\n",
      "Epoch 29/50\n",
      "782/782 [==============================] - 15s 20ms/step - loss: 0.0024 - accuracy: 0.9993 - val_loss: 1.4727 - val_accuracy: 0.7998\n",
      "Epoch 30/50\n",
      "782/782 [==============================] - 13s 16ms/step - loss: 0.0074 - accuracy: 0.9971 - val_loss: 1.4765 - val_accuracy: 0.8041\n",
      "Epoch 31/50\n",
      "782/782 [==============================] - 13s 17ms/step - loss: 0.0031 - accuracy: 0.9992 - val_loss: 1.6794 - val_accuracy: 0.7994\n",
      "Epoch 32/50\n",
      "782/782 [==============================] - 14s 18ms/step - loss: 0.0065 - accuracy: 0.9980 - val_loss: 1.5198 - val_accuracy: 0.8048\n",
      "Epoch 33/50\n",
      "782/782 [==============================] - 13s 17ms/step - loss: 0.0034 - accuracy: 0.9991 - val_loss: 1.5152 - val_accuracy: 0.8062\n",
      "Epoch 34/50\n",
      "782/782 [==============================] - 13s 16ms/step - loss: 4.5214e-04 - accuracy: 0.9999 - val_loss: 1.5992 - val_accuracy: 0.8035\n",
      "Epoch 35/50\n",
      "782/782 [==============================] - 14s 17ms/step - loss: 5.2074e-05 - accuracy: 1.0000 - val_loss: 1.6736 - val_accuracy: 0.8074\n",
      "Epoch 36/50\n",
      "782/782 [==============================] - 13s 17ms/step - loss: 2.5541e-05 - accuracy: 1.0000 - val_loss: 1.7226 - val_accuracy: 0.8073\n",
      "Epoch 37/50\n",
      "782/782 [==============================] - 14s 18ms/step - loss: 1.7267e-05 - accuracy: 1.0000 - val_loss: 1.7748 - val_accuracy: 0.8074\n",
      "Epoch 38/50\n",
      "782/782 [==============================] - 13s 17ms/step - loss: 1.1841e-05 - accuracy: 1.0000 - val_loss: 1.8227 - val_accuracy: 0.8080\n",
      "Epoch 39/50\n",
      "782/782 [==============================] - 16s 20ms/step - loss: 8.0421e-06 - accuracy: 1.0000 - val_loss: 1.8780 - val_accuracy: 0.8084\n",
      "Epoch 40/50\n",
      "782/782 [==============================] - 13s 17ms/step - loss: 5.4521e-06 - accuracy: 1.0000 - val_loss: 1.9359 - val_accuracy: 0.8084\n",
      "Epoch 41/50\n",
      "782/782 [==============================] - 14s 17ms/step - loss: 3.6751e-06 - accuracy: 1.0000 - val_loss: 1.9916 - val_accuracy: 0.8084\n",
      "Epoch 42/50\n",
      "782/782 [==============================] - 13s 17ms/step - loss: 2.4427e-06 - accuracy: 1.0000 - val_loss: 2.0476 - val_accuracy: 0.8083\n",
      "Epoch 43/50\n",
      "782/782 [==============================] - 13s 16ms/step - loss: 1.6192e-06 - accuracy: 1.0000 - val_loss: 2.1113 - val_accuracy: 0.8082\n",
      "Epoch 44/50\n",
      "782/782 [==============================] - 16s 20ms/step - loss: 1.0738e-06 - accuracy: 1.0000 - val_loss: 2.1684 - val_accuracy: 0.8082\n",
      "Epoch 45/50\n",
      "782/782 [==============================] - 13s 17ms/step - loss: 7.0832e-07 - accuracy: 1.0000 - val_loss: 2.2315 - val_accuracy: 0.8081\n",
      "Epoch 46/50\n",
      "782/782 [==============================] - 13s 17ms/step - loss: 4.6578e-07 - accuracy: 1.0000 - val_loss: 2.2945 - val_accuracy: 0.8078\n",
      "Epoch 47/50\n",
      "782/782 [==============================] - 13s 16ms/step - loss: 3.0712e-07 - accuracy: 1.0000 - val_loss: 2.3536 - val_accuracy: 0.8076\n",
      "Epoch 48/50\n",
      "782/782 [==============================] - 13s 17ms/step - loss: 2.0245e-07 - accuracy: 1.0000 - val_loss: 2.4218 - val_accuracy: 0.8080\n",
      "Epoch 49/50\n",
      "782/782 [==============================] - 13s 17ms/step - loss: 1.3369e-07 - accuracy: 1.0000 - val_loss: 2.4813 - val_accuracy: 0.8079\n",
      "Epoch 50/50\n",
      "782/782 [==============================] - 13s 16ms/step - loss: 8.8802e-08 - accuracy: 1.0000 - val_loss: 2.5494 - val_accuracy: 0.8081\n"
     ]
    }
   ],
   "source": [
    "num_epochs = 50\n",
    "history = model.fit(padded, training_labels_final, epochs=num_epochs, validation_data=(testing_padded, testing_labels_final))"
   ]
  },
  {
   "cell_type": "code",
   "execution_count": 20,
   "id": "a48768d3",
   "metadata": {},
   "outputs": [
    {
     "data": {
      "image/png": "[encoded data removed]",
      "text/plain": [
       "<Figure size 432x288 with 1 Axes>"
      ]
     },
     "metadata": {
      "needs_background": "light"
     },
     "output_type": "display_data"
    },
    {
     "data": {
      "image/png": "[encoded data removed]",
      "text/plain": [
       "<Figure size 432x288 with 1 Axes>"
      ]
     },
     "metadata": {
      "needs_background": "light"
     },
     "output_type": "display_data"
    }
   ],
   "source": [
    "import matplotlib.pyplot as plt\n",
    "\n",
    "\n",
    "def plot_graphs(history, string):\n",
    "    plt.plot(history.history[string])\n",
    "    plt.plot(history.history['val_'+string])\n",
    "    plt.xlabel(\"Epochs\")\n",
    "    plt.ylabel(string)\n",
    "    plt.legend([string, 'val_'+string])\n",
    "    plt.show()\n",
    "\n",
    "plot_graphs(history, 'accuracy')\n",
    "plot_graphs(history, 'loss')"
   ]
  },
  {
   "cell_type": "code",
   "execution_count": 21,
   "id": "25d3a8c2",
   "metadata": {},
   "outputs": [
    {
     "name": "stdout",
     "output_type": "stream",
     "text": [
      "Model: \"sequential_2\"\n",
      "_________________________________________________________________\n",
      "Layer (type)                 Output Shape              Param #   \n",
      "=================================================================\n",
      "embedding_2 (Embedding)      (None, 120, 16)           160000    \n",
      "_________________________________________________________________\n",
      "bidirectional_1 (Bidirection (None, 64)                12544     \n",
      "_________________________________________________________________\n",
      "dense_4 (Dense)              (None, 6)                 390       \n",
      "_________________________________________________________________\n",
      "dense_5 (Dense)              (None, 1)                 7         \n",
      "=================================================================\n",
      "Total params: 172,941\n",
      "Trainable params: 172,941\n",
      "Non-trainable params: 0\n",
      "_________________________________________________________________\n"
     ]
    }
   ],
   "source": [
    "# Model Definition with LSTM\n",
    "model = tf.keras.Sequential([\n",
    "    tf.keras.layers.Embedding(vocab_size, embedding_dim, input_length=max_length),\n",
    "    tf.keras.layers.Bidirectional(tf.keras.layers.LSTM(32)),\n",
    "    tf.keras.layers.Dense(6, activation='relu'),\n",
    "    tf.keras.layers.Dense(1, activation='sigmoid')\n",
    "])\n",
    "model.compile(loss='binary_crossentropy',optimizer='adam',metrics=['accuracy'])\n",
    "model.summary()"
   ]
  },
  {
   "cell_type": "code",
   "execution_count": 23,
   "id": "f5663c7d",
   "metadata": {},
   "outputs": [
    {
     "name": "stdout",
     "output_type": "stream",
     "text": [
      "Epoch 1/50\n",
      "782/782 [==============================] - 7s 8ms/step - loss: 0.4529 - accuracy: 0.7836 - val_loss: 0.3467 - val_accuracy: 0.8500\n",
      "Epoch 2/50\n",
      "782/782 [==============================] - 6s 8ms/step - loss: 0.2805 - accuracy: 0.8852 - val_loss: 0.3581 - val_accuracy: 0.8446\n",
      "Epoch 3/50\n",
      "782/782 [==============================] - 6s 8ms/step - loss: 0.2302 - accuracy: 0.9078 - val_loss: 0.3911 - val_accuracy: 0.8368\n",
      "Epoch 4/50\n",
      "782/782 [==============================] - 6s 7ms/step - loss: 0.1933 - accuracy: 0.9266 - val_loss: 0.4127 - val_accuracy: 0.8320\n",
      "Epoch 5/50\n",
      "782/782 [==============================] - 6s 7ms/step - loss: 0.1605 - accuracy: 0.9400 - val_loss: 0.4706 - val_accuracy: 0.8284\n",
      "Epoch 6/50\n",
      "782/782 [==============================] - 5s 7ms/step - loss: 0.1340 - accuracy: 0.9537 - val_loss: 0.5242 - val_accuracy: 0.8241\n",
      "Epoch 7/50\n",
      "782/782 [==============================] - 6s 8ms/step - loss: 0.1119 - accuracy: 0.9614 - val_loss: 0.5785 - val_accuracy: 0.8177\n",
      "Epoch 8/50\n",
      "782/782 [==============================] - 9s 11ms/step - loss: 0.0886 - accuracy: 0.9723 - val_loss: 0.6759 - val_accuracy: 0.8142\n",
      "Epoch 9/50\n",
      "782/782 [==============================] - 6s 7ms/step - loss: 0.0713 - accuracy: 0.9794 - val_loss: 0.7353 - val_accuracy: 0.8126\n",
      "Epoch 10/50\n",
      "782/782 [==============================] - 6s 8ms/step - loss: 0.0549 - accuracy: 0.9852 - val_loss: 0.8851 - val_accuracy: 0.8077\n",
      "Epoch 11/50\n",
      "782/782 [==============================] - 6s 8ms/step - loss: 0.0447 - accuracy: 0.9878 - val_loss: 0.9256 - val_accuracy: 0.8030\n",
      "Epoch 12/50\n",
      "782/782 [==============================] - 7s 9ms/step - loss: 0.0382 - accuracy: 0.9894 - val_loss: 1.0316 - val_accuracy: 0.8001\n",
      "Epoch 13/50\n",
      "782/782 [==============================] - 6s 8ms/step - loss: 0.0310 - accuracy: 0.9922 - val_loss: 1.1547 - val_accuracy: 0.8007\n",
      "Epoch 14/50\n",
      "782/782 [==============================] - 7s 9ms/step - loss: 0.0270 - accuracy: 0.9931 - val_loss: 1.2973 - val_accuracy: 0.7994\n",
      "Epoch 15/50\n",
      "782/782 [==============================] - 7s 9ms/step - loss: 0.0282 - accuracy: 0.9919 - val_loss: 1.2729 - val_accuracy: 0.7972\n",
      "Epoch 16/50\n",
      "782/782 [==============================] - 7s 9ms/step - loss: 0.0234 - accuracy: 0.9928 - val_loss: 1.3730 - val_accuracy: 0.7983\n",
      "Epoch 17/50\n",
      "782/782 [==============================] - 6s 8ms/step - loss: 0.0199 - accuracy: 0.9944 - val_loss: 1.4161 - val_accuracy: 0.8000\n",
      "Epoch 18/50\n",
      "782/782 [==============================] - 6s 8ms/step - loss: 0.0179 - accuracy: 0.9951 - val_loss: 1.4277 - val_accuracy: 0.7952\n",
      "Epoch 19/50\n",
      "782/782 [==============================] - 6s 8ms/step - loss: 0.0164 - accuracy: 0.9951 - val_loss: 1.6472 - val_accuracy: 0.7990\n",
      "Epoch 20/50\n",
      "782/782 [==============================] - 6s 8ms/step - loss: 0.0129 - accuracy: 0.9966 - val_loss: 1.6906 - val_accuracy: 0.7966\n",
      "Epoch 21/50\n",
      "782/782 [==============================] - 6s 8ms/step - loss: 0.0134 - accuracy: 0.9964 - val_loss: 1.5968 - val_accuracy: 0.7932\n",
      "Epoch 22/50\n",
      "782/782 [==============================] - 6s 8ms/step - loss: 0.0136 - accuracy: 0.9954 - val_loss: 1.7873 - val_accuracy: 0.7944\n",
      "Epoch 23/50\n",
      "782/782 [==============================] - 6s 8ms/step - loss: 0.0099 - accuracy: 0.9972 - val_loss: 1.8451 - val_accuracy: 0.7958\n",
      "Epoch 24/50\n",
      "782/782 [==============================] - 6s 8ms/step - loss: 0.0066 - accuracy: 0.9982 - val_loss: 1.8772 - val_accuracy: 0.7929\n",
      "Epoch 25/50\n",
      "782/782 [==============================] - 6s 8ms/step - loss: 0.0085 - accuracy: 0.9974 - val_loss: 1.9085 - val_accuracy: 0.7960\n",
      "Epoch 26/50\n",
      "782/782 [==============================] - 6s 8ms/step - loss: 0.0113 - accuracy: 0.9964 - val_loss: 2.1256 - val_accuracy: 0.7971\n",
      "Epoch 27/50\n",
      "782/782 [==============================] - 6s 8ms/step - loss: 0.0085 - accuracy: 0.9974 - val_loss: 1.9739 - val_accuracy: 0.7961\n",
      "Epoch 28/50\n",
      "782/782 [==============================] - 6s 8ms/step - loss: 0.0079 - accuracy: 0.9975 - val_loss: 2.1479 - val_accuracy: 0.7939\n",
      "Epoch 29/50\n",
      "782/782 [==============================] - 6s 8ms/step - loss: 0.0078 - accuracy: 0.9976 - val_loss: 2.0634 - val_accuracy: 0.7949\n",
      "Epoch 30/50\n",
      "782/782 [==============================] - 6s 7ms/step - loss: 0.0056 - accuracy: 0.9986 - val_loss: 2.1392 - val_accuracy: 0.7939\n",
      "Epoch 31/50\n",
      "782/782 [==============================] - 6s 8ms/step - loss: 0.0052 - accuracy: 0.9984 - val_loss: 2.0468 - val_accuracy: 0.7919\n",
      "Epoch 32/50\n",
      "782/782 [==============================] - 6s 7ms/step - loss: 0.0061 - accuracy: 0.9980 - val_loss: 2.2202 - val_accuracy: 0.7938\n",
      "Epoch 33/50\n",
      "782/782 [==============================] - 6s 8ms/step - loss: 0.0054 - accuracy: 0.9982 - val_loss: 2.1584 - val_accuracy: 0.7947\n",
      "Epoch 34/50\n",
      "782/782 [==============================] - 6s 8ms/step - loss: 0.0064 - accuracy: 0.9977 - val_loss: 2.3264 - val_accuracy: 0.7940\n",
      "Epoch 35/50\n",
      "782/782 [==============================] - 6s 8ms/step - loss: 0.0051 - accuracy: 0.9984 - val_loss: 2.1841 - val_accuracy: 0.7930\n",
      "Epoch 36/50\n",
      "782/782 [==============================] - 6s 8ms/step - loss: 0.0058 - accuracy: 0.9983 - val_loss: 2.2079 - val_accuracy: 0.7929\n",
      "Epoch 37/50\n",
      "782/782 [==============================] - 6s 8ms/step - loss: 0.0052 - accuracy: 0.9983 - val_loss: 2.4421 - val_accuracy: 0.7926\n",
      "Epoch 38/50\n",
      "782/782 [==============================] - 6s 8ms/step - loss: 0.0020 - accuracy: 0.9993 - val_loss: 2.3798 - val_accuracy: 0.7943\n",
      "Epoch 39/50\n",
      "782/782 [==============================] - 6s 8ms/step - loss: 6.9588e-04 - accuracy: 0.9999 - val_loss: 2.4388 - val_accuracy: 0.7947\n",
      "Epoch 40/50\n",
      "782/782 [==============================] - 6s 8ms/step - loss: 3.8569e-04 - accuracy: 1.0000 - val_loss: 2.5157 - val_accuracy: 0.7939\n",
      "Epoch 41/50\n",
      "782/782 [==============================] - 6s 8ms/step - loss: 1.9248e-04 - accuracy: 1.0000 - val_loss: 2.5996 - val_accuracy: 0.7925\n",
      "Epoch 42/50\n",
      "782/782 [==============================] - 6s 8ms/step - loss: 4.6511e-05 - accuracy: 1.0000 - val_loss: 2.6720 - val_accuracy: 0.7927\n",
      "Epoch 43/50\n",
      "782/782 [==============================] - 6s 8ms/step - loss: 2.7307e-05 - accuracy: 1.0000 - val_loss: 2.7579 - val_accuracy: 0.7933\n",
      "Epoch 44/50\n",
      "782/782 [==============================] - 6s 8ms/step - loss: 1.8539e-05 - accuracy: 1.0000 - val_loss: 2.8283 - val_accuracy: 0.7933\n",
      "Epoch 45/50\n",
      "782/782 [==============================] - 5s 6ms/step - loss: 1.2921e-05 - accuracy: 1.0000 - val_loss: 2.8936 - val_accuracy: 0.7938\n",
      "Epoch 46/50\n",
      "782/782 [==============================] - 5s 6ms/step - loss: 9.1034e-06 - accuracy: 1.0000 - val_loss: 2.9654 - val_accuracy: 0.7938\n",
      "Epoch 47/50\n",
      "782/782 [==============================] - 5s 7ms/step - loss: 6.3644e-06 - accuracy: 1.0000 - val_loss: 3.0470 - val_accuracy: 0.7939\n",
      "Epoch 48/50\n",
      "782/782 [==============================] - 5s 6ms/step - loss: 4.4088e-06 - accuracy: 1.0000 - val_loss: 3.1268 - val_accuracy: 0.7938\n",
      "Epoch 49/50\n",
      "782/782 [==============================] - 5s 7ms/step - loss: 3.0355e-06 - accuracy: 1.0000 - val_loss: 3.2245 - val_accuracy: 0.7944\n",
      "Epoch 50/50\n",
      "782/782 [==============================] - 5s 7ms/step - loss: 2.0274e-06 - accuracy: 1.0000 - val_loss: 3.2920 - val_accuracy: 0.7947\n"
     ]
    },
    {
     "data": {
      "image/png": "[encoded data removed]",
      "text/plain": [
       "<Figure size 432x288 with 1 Axes>"
      ]
     },
     "metadata": {
      "needs_background": "light"
     },
     "output_type": "display_data"
    },
    {
     "data": {
      "image/png": "[encoded data removed]",
      "text/plain": [
       "<Figure size 432x288 with 1 Axes>"
      ]
     },
     "metadata": {
      "needs_background": "light"
     },
     "output_type": "display_data"
    }
   ],
   "source": [
    "num_epochs = 50\n",
    "history = model.fit(padded, training_labels_final, epochs=num_epochs, validation_data=(testing_padded, testing_labels_final))\n",
    "plot_graphs(history, 'accuracy')\n",
    "plot_graphs(history, 'loss')"
   ]
  },
  {
   "cell_type": "code",
   "execution_count": 22,
   "id": "6535334d",
   "metadata": {},
   "outputs": [
    {
     "name": "stdout",
     "output_type": "stream",
     "text": [
      "Model: \"sequential_3\"\n",
      "_________________________________________________________________\n",
      "Layer (type)                 Output Shape              Param #   \n",
      "=================================================================\n",
      "embedding_3 (Embedding)      (None, 120, 16)           160000    \n",
      "_________________________________________________________________\n",
      "conv1d_1 (Conv1D)            (None, 116, 128)          10368     \n",
      "_________________________________________________________________\n",
      "global_average_pooling1d_1 ( (None, 128)               0         \n",
      "_________________________________________________________________\n",
      "dense_6 (Dense)              (None, 6)                 774       \n",
      "_________________________________________________________________\n",
      "dense_7 (Dense)              (None, 1)                 7         \n",
      "=================================================================\n",
      "Total params: 171,149\n",
      "Trainable params: 171,149\n",
      "Non-trainable params: 0\n",
      "_________________________________________________________________\n"
     ]
    }
   ],
   "source": [
    "# Model Definition with Conv1D\n",
    "model = tf.keras.Sequential([\n",
    "    tf.keras.layers.Embedding(vocab_size, embedding_dim, input_length=max_length),\n",
    "    tf.keras.layers.Conv1D(128, 5, activation='relu'),\n",
    "    tf.keras.layers.GlobalAveragePooling1D(),\n",
    "    tf.keras.layers.Dense(6, activation='relu'),\n",
    "    tf.keras.layers.Dense(1, activation='sigmoid')\n",
    "])\n",
    "model.compile(loss='binary_crossentropy',optimizer='adam',metrics=['accuracy'])\n",
    "model.summary()"
   ]
  },
  {
   "cell_type": "code",
   "execution_count": 24,
   "id": "fb62a492",
   "metadata": {},
   "outputs": [
    {
     "name": "stdout",
     "output_type": "stream",
     "text": [
      "Epoch 1/50\n",
      "782/782 [==============================] - 5s 7ms/step - loss: 1.4088e-06 - accuracy: 1.0000 - val_loss: 3.3845 - val_accuracy: 0.7946\n",
      "Epoch 2/50\n",
      "782/782 [==============================] - 5s 7ms/step - loss: 9.6272e-07 - accuracy: 1.0000 - val_loss: 3.4725 - val_accuracy: 0.7946\n",
      "Epoch 3/50\n",
      "782/782 [==============================] - 5s 7ms/step - loss: 6.5214e-07 - accuracy: 1.0000 - val_loss: 3.5620 - val_accuracy: 0.7950\n",
      "Epoch 4/50\n",
      "782/782 [==============================] - 5s 7ms/step - loss: 4.3125e-07 - accuracy: 1.0000 - val_loss: 3.6484 - val_accuracy: 0.7949\n",
      "Epoch 5/50\n",
      "782/782 [==============================] - 5s 7ms/step - loss: 3.1226e-07 - accuracy: 1.0000 - val_loss: 3.7540 - val_accuracy: 0.7952\n",
      "Epoch 6/50\n",
      "782/782 [==============================] - 5s 7ms/step - loss: 2.0416e-07 - accuracy: 1.0000 - val_loss: 3.8290 - val_accuracy: 0.7950\n",
      "Epoch 7/50\n",
      "782/782 [==============================] - 5s 7ms/step - loss: 1.4041e-07 - accuracy: 1.0000 - val_loss: 3.9206 - val_accuracy: 0.7951\n",
      "Epoch 8/50\n",
      "782/782 [==============================] - 5s 7ms/step - loss: 9.7989e-08 - accuracy: 1.0000 - val_loss: 4.0091 - val_accuracy: 0.7949\n",
      "Epoch 9/50\n",
      "782/782 [==============================] - 5s 7ms/step - loss: 6.7626e-08 - accuracy: 1.0000 - val_loss: 4.0978 - val_accuracy: 0.7955\n",
      "Epoch 10/50\n",
      "782/782 [==============================] - 5s 7ms/step - loss: 4.7840e-08 - accuracy: 1.0000 - val_loss: 4.1940 - val_accuracy: 0.7954\n",
      "Epoch 11/50\n",
      "782/782 [==============================] - 5s 7ms/step - loss: 3.3721e-08 - accuracy: 1.0000 - val_loss: 4.2796 - val_accuracy: 0.7955\n",
      "Epoch 12/50\n",
      "782/782 [==============================] - 5s 7ms/step - loss: 2.4106e-08 - accuracy: 1.0000 - val_loss: 4.3724 - val_accuracy: 0.7954\n",
      "Epoch 13/50\n",
      "782/782 [==============================] - 5s 7ms/step - loss: 1.7212e-08 - accuracy: 1.0000 - val_loss: 4.4565 - val_accuracy: 0.7952\n",
      "Epoch 14/50\n",
      "782/782 [==============================] - 5s 7ms/step - loss: 1.2101e-08 - accuracy: 1.0000 - val_loss: 4.5494 - val_accuracy: 0.7954\n",
      "Epoch 15/50\n",
      "782/782 [==============================] - 5s 7ms/step - loss: 9.2059e-09 - accuracy: 1.0000 - val_loss: 4.6259 - val_accuracy: 0.7952\n",
      "Epoch 16/50\n",
      "782/782 [==============================] - 5s 7ms/step - loss: 6.6553e-09 - accuracy: 1.0000 - val_loss: 4.7085 - val_accuracy: 0.7951\n",
      "Epoch 17/50\n",
      "782/782 [==============================] - 5s 7ms/step - loss: 4.8277e-09 - accuracy: 1.0000 - val_loss: 4.7834 - val_accuracy: 0.7952\n",
      "Epoch 18/50\n",
      "782/782 [==============================] - 5s 7ms/step - loss: 3.8067e-09 - accuracy: 1.0000 - val_loss: 4.8620 - val_accuracy: 0.7952\n",
      "Epoch 19/50\n",
      "782/782 [==============================] - 5s 7ms/step - loss: 2.9349e-09 - accuracy: 1.0000 - val_loss: 4.9216 - val_accuracy: 0.7952\n",
      "Epoch 20/50\n",
      "782/782 [==============================] - 5s 7ms/step - loss: 2.3800e-09 - accuracy: 1.0000 - val_loss: 4.9804 - val_accuracy: 0.7951\n",
      "Epoch 21/50\n",
      "782/782 [==============================] - 6s 7ms/step - loss: 1.9816e-09 - accuracy: 1.0000 - val_loss: 5.0418 - val_accuracy: 0.7951\n",
      "Epoch 22/50\n",
      "782/782 [==============================] - 5s 7ms/step - loss: 1.6920e-09 - accuracy: 1.0000 - val_loss: 5.0822 - val_accuracy: 0.7949\n",
      "Epoch 23/50\n",
      "782/782 [==============================] - 5s 7ms/step - loss: 1.4884e-09 - accuracy: 1.0000 - val_loss: 5.1312 - val_accuracy: 0.7950\n",
      "Epoch 24/50\n",
      "782/782 [==============================] - 6s 7ms/step - loss: 1.3349e-09 - accuracy: 1.0000 - val_loss: 5.1647 - val_accuracy: 0.7949\n",
      "Epoch 25/50\n",
      "782/782 [==============================] - 6s 7ms/step - loss: 1.2244e-09 - accuracy: 1.0000 - val_loss: 5.2042 - val_accuracy: 0.7948\n",
      "Epoch 26/50\n",
      "782/782 [==============================] - 6s 7ms/step - loss: 1.1505e-09 - accuracy: 1.0000 - val_loss: 5.2313 - val_accuracy: 0.7949\n",
      "Epoch 27/50\n",
      "782/782 [==============================] - 6s 7ms/step - loss: 1.0447e-09 - accuracy: 1.0000 - val_loss: 5.2639 - val_accuracy: 0.7949\n",
      "Epoch 28/50\n",
      "782/782 [==============================] - 6s 7ms/step - loss: 9.8789e-10 - accuracy: 1.0000 - val_loss: 5.2877 - val_accuracy: 0.7945\n",
      "Epoch 29/50\n",
      "782/782 [==============================] - 6s 7ms/step - loss: 9.6822e-10 - accuracy: 1.0000 - val_loss: 5.3138 - val_accuracy: 0.7950\n",
      "Epoch 30/50\n",
      "782/782 [==============================] - 6s 7ms/step - loss: 9.3017e-10 - accuracy: 1.0000 - val_loss: 5.3304 - val_accuracy: 0.7946\n",
      "Epoch 31/50\n",
      "782/782 [==============================] - 6s 7ms/step - loss: 9.0464e-10 - accuracy: 1.0000 - val_loss: 5.3514 - val_accuracy: 0.7948\n",
      "Epoch 32/50\n",
      "782/782 [==============================] - 6s 7ms/step - loss: 8.7017e-10 - accuracy: 1.0000 - val_loss: 5.3686 - val_accuracy: 0.7945\n",
      "Epoch 33/50\n",
      "782/782 [==============================] - 6s 8ms/step - loss: 8.8244e-10 - accuracy: 1.0000 - val_loss: 5.3835 - val_accuracy: 0.7947\n",
      "Epoch 34/50\n",
      "782/782 [==============================] - 6s 7ms/step - loss: 8.5425e-10 - accuracy: 1.0000 - val_loss: 5.4007 - val_accuracy: 0.7947\n",
      "Epoch 35/50\n",
      "782/782 [==============================] - 6s 8ms/step - loss: 8.4481e-10 - accuracy: 1.0000 - val_loss: 5.4083 - val_accuracy: 0.7945\n",
      "Epoch 36/50\n",
      "782/782 [==============================] - 6s 8ms/step - loss: 8.1146e-10 - accuracy: 1.0000 - val_loss: 5.4215 - val_accuracy: 0.7945\n",
      "Epoch 37/50\n",
      "782/782 [==============================] - 6s 8ms/step - loss: 7.9423e-10 - accuracy: 1.0000 - val_loss: 5.4362 - val_accuracy: 0.7947\n",
      "Epoch 38/50\n",
      "782/782 [==============================] - 6s 8ms/step - loss: 8.2164e-10 - accuracy: 1.0000 - val_loss: 5.4487 - val_accuracy: 0.7947\n",
      "Epoch 39/50\n",
      "782/782 [==============================] - 6s 8ms/step - loss: 7.7697e-10 - accuracy: 1.0000 - val_loss: 5.4567 - val_accuracy: 0.7944\n",
      "Epoch 40/50\n",
      "782/782 [==============================] - 6s 8ms/step - loss: 8.0999e-10 - accuracy: 1.0000 - val_loss: 5.4691 - val_accuracy: 0.7948\n",
      "Epoch 41/50\n",
      "782/782 [==============================] - 6s 8ms/step - loss: 7.8350e-10 - accuracy: 1.0000 - val_loss: 5.4814 - val_accuracy: 0.7946\n",
      "Epoch 42/50\n",
      "782/782 [==============================] - 6s 8ms/step - loss: 7.6909e-10 - accuracy: 1.0000 - val_loss: 5.4872 - val_accuracy: 0.7945\n",
      "Epoch 43/50\n",
      "782/782 [==============================] - 6s 8ms/step - loss: 7.8769e-10 - accuracy: 1.0000 - val_loss: 5.4977 - val_accuracy: 0.7944\n",
      "Epoch 44/50\n",
      "782/782 [==============================] - 6s 8ms/step - loss: 7.4029e-10 - accuracy: 1.0000 - val_loss: 5.5014 - val_accuracy: 0.7944\n",
      "Epoch 45/50\n",
      "782/782 [==============================] - 6s 8ms/step - loss: 7.7096e-10 - accuracy: 1.0000 - val_loss: 5.5124 - val_accuracy: 0.7945\n",
      "Epoch 46/50\n",
      "782/782 [==============================] - 6s 8ms/step - loss: 7.6520e-10 - accuracy: 1.0000 - val_loss: 5.5207 - val_accuracy: 0.7945\n",
      "Epoch 47/50\n",
      "782/782 [==============================] - 6s 8ms/step - loss: 7.7372e-10 - accuracy: 1.0000 - val_loss: 5.5293 - val_accuracy: 0.7944\n",
      "Epoch 48/50\n",
      "782/782 [==============================] - 6s 8ms/step - loss: 7.6877e-10 - accuracy: 1.0000 - val_loss: 5.5367 - val_accuracy: 0.7943\n",
      "Epoch 49/50\n",
      "782/782 [==============================] - 6s 8ms/step - loss: 7.2592e-10 - accuracy: 1.0000 - val_loss: 5.5434 - val_accuracy: 0.7945\n",
      "Epoch 50/50\n",
      "782/782 [==============================] - 6s 8ms/step - loss: 7.4498e-10 - accuracy: 1.0000 - val_loss: 5.5507 - val_accuracy: 0.7945\n"
     ]
    },
    {
     "data": {
      "image/png": "[encoded data removed]",
      "text/plain": [
       "<Figure size 432x288 with 1 Axes>"
      ]
     },
     "metadata": {
      "needs_background": "light"
     },
     "output_type": "display_data"
    },
    {
     "data": {
      "image/png": "[encoded data removed]",
      "text/plain": [
       "<Figure size 432x288 with 1 Axes>"
      ]
     },
     "metadata": {
      "needs_background": "light"
     },
     "output_type": "display_data"
    }
   ],
   "source": [
    "num_epochs = 50\n",
    "history = model.fit(padded, training_labels_final, epochs=num_epochs, validation_data=(testing_padded, testing_labels_final))\n",
    "plot_graphs(history, 'accuracy')\n",
    "plot_graphs(history, 'loss')"
   ]
  },
  {
   "cell_type": "code",
   "execution_count": null,
   "id": "f8c98f35",
   "metadata": {},
   "outputs": [],
   "source": []
  }
 ],
 "metadata": {
  "kernelspec": {
   "display_name": "Python 3",
   "language": "python",
   "name": "python3"
  },
  "language_info": {
   "codemirror_mode": {
    "name": "ipython",
    "version": 3
   },
   "file_extension": ".py",
   "mimetype": "text/x-python",
   "name": "python",
   "nbconvert_exporter": "python",
   "pygments_lexer": "ipython3",
   "version": "3.8.8"
  }
 },
 "nbformat": 4,
 "nbformat_minor": 5
}
